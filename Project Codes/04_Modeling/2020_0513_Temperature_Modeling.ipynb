{
 "cells": [
  {
   "cell_type": "markdown",
   "metadata": {},
   "source": [
    "# Introduction \n",
    "\n",
    "In the following notebook, I will creating a time series forecast aiming to predict the temperature in Bilbao and Seville Spain. \n",
    "\n",
    "* Raw data can be found [here](https://github.com/KishenSharma6/Weather-Energy-Consumption-in-Spain/tree/master/Data/01_Raw_Data)\n",
    "* Cleaned data can be found [here](https://github.com/KishenSharma6/Weather-Energy-Consumption-in-Spain/tree/master/Data/02_Cleaned_Data)\n",
    "* Training and test data can be found [here](https://github.com/KishenSharma6/Weather-Energy-Consumption-in-Spain/tree/master/Data/03_Processed_Data)"
   ]
  },
  {
   "cell_type": "markdown",
   "metadata": {},
   "source": [
    "**Read in libraries for notebook**"
   ]
  },
  {
   "cell_type": "code",
   "execution_count": 1,
   "metadata": {},
   "outputs": [
    {
     "name": "stderr",
     "output_type": "stream",
     "text": [
      "C:\\Users\\kishe\\AppData\\Roaming\\Python\\Python37\\site-packages\\statsmodels\\tools\\_testing.py:19: FutureWarning: pandas.util.testing is deprecated. Use the functions in the public API at pandas.testing instead.\n",
      "  import pandas.util.testing as tm\n"
     ]
    }
   ],
   "source": [
    "import numpy as np\n",
    "import pandas as pd\n",
    "\n",
    "import matplotlib.pyplot as plt\n",
    "import seaborn as sns\n",
    "import warnings"
   ]
  },
  {
   "cell_type": "markdown",
   "metadata": {},
   "source": [
    "**Set notebook preferences**"
   ]
  },
  {
   "cell_type": "code",
   "execution_count": 2,
   "metadata": {},
   "outputs": [],
   "source": [
    "#Set preferences for pandas \n",
    "pd.set_option(\"display.max_rows\", 101)\n",
    "\n",
    "#Set style for visualizations\n",
    "plt.style.use('Solarize_Light2')\n",
    "\n",
    "#Surpress warnings\n",
    "warnings.filterwarnings('ignore')"
   ]
  },
  {
   "cell_type": "markdown",
   "metadata": {},
   "source": [
    "**Read in data**"
   ]
  },
  {
   "cell_type": "code",
   "execution_count": 3,
   "metadata": {},
   "outputs": [],
   "source": [
    "#Set path to raw data\n",
    "path = r'C:\\Users\\kishe\\Documents\\Data Science\\Projects\\Python Projects\\In Progress\\Spain Hourly Energy Demand and Weather/Data/03_Processed_Data'\n",
    "\n",
    "#Read in Bilbao training and test data\n",
    "b_train = pd.read_csv(path + '/2020_0512_Bilbao_train.csv', parse_dates=['date_time'], index_col='date_time')\n",
    "b_test = pd.read_csv(path + '/2020_0512_Bilbao_test.csv', parse_dates=['date_time'], index_col='date_time')\n",
    "\n",
    "#Read in Seville training and test data\n",
    "s_train = pd.read_csv(path + '/2020_0512_Seville_train.csv', parse_dates=['date_time'], index_col='date_time')\n",
    "s_test = pd.read_csv(path + '/2020_0512_Seville_test.csv', parse_dates=['date_time'], index_col='date_time')"
   ]
  },
  {
   "cell_type": "markdown",
   "metadata": {},
   "source": [
    "**Data preview**"
   ]
  },
  {
   "cell_type": "code",
   "execution_count": null,
   "metadata": {},
   "outputs": [],
   "source": [
    "display(b_train.head())"
   ]
  },
  {
   "cell_type": "code",
   "execution_count": 4,
   "metadata": {},
   "outputs": [
    {
     "data": {
      "text/html": [
       "<div>\n",
       "<style scoped>\n",
       "    .dataframe tbody tr th:only-of-type {\n",
       "        vertical-align: middle;\n",
       "    }\n",
       "\n",
       "    .dataframe tbody tr th {\n",
       "        vertical-align: top;\n",
       "    }\n",
       "\n",
       "    .dataframe thead th {\n",
       "        text-align: right;\n",
       "    }\n",
       "</style>\n",
       "<table border=\"1\" class=\"dataframe\">\n",
       "  <thead>\n",
       "    <tr style=\"text-align: right;\">\n",
       "      <th></th>\n",
       "      <th>temp</th>\n",
       "      <th>first_deseasoned_temp</th>\n",
       "      <th>log_temp</th>\n",
       "      <th>first_deseasoned_log_temp</th>\n",
       "    </tr>\n",
       "    <tr>\n",
       "      <th>date_time</th>\n",
       "      <th></th>\n",
       "      <th></th>\n",
       "      <th></th>\n",
       "      <th></th>\n",
       "    </tr>\n",
       "  </thead>\n",
       "  <tbody>\n",
       "    <tr>\n",
       "      <th>2015-01-01 00:00:00</th>\n",
       "      <td>32.4050</td>\n",
       "      <td>NaN</td>\n",
       "      <td>3.508706</td>\n",
       "      <td>NaN</td>\n",
       "    </tr>\n",
       "    <tr>\n",
       "      <th>2015-01-01 01:00:00</th>\n",
       "      <td>32.4050</td>\n",
       "      <td>NaN</td>\n",
       "      <td>3.508706</td>\n",
       "      <td>NaN</td>\n",
       "    </tr>\n",
       "    <tr>\n",
       "      <th>2015-01-01 02:00:00</th>\n",
       "      <td>33.6848</td>\n",
       "      <td>NaN</td>\n",
       "      <td>3.546302</td>\n",
       "      <td>NaN</td>\n",
       "    </tr>\n",
       "    <tr>\n",
       "      <th>2015-01-01 03:00:00</th>\n",
       "      <td>33.6848</td>\n",
       "      <td>NaN</td>\n",
       "      <td>3.546302</td>\n",
       "      <td>NaN</td>\n",
       "    </tr>\n",
       "    <tr>\n",
       "      <th>2015-01-01 04:00:00</th>\n",
       "      <td>33.6848</td>\n",
       "      <td>NaN</td>\n",
       "      <td>3.546302</td>\n",
       "      <td>NaN</td>\n",
       "    </tr>\n",
       "  </tbody>\n",
       "</table>\n",
       "</div>"
      ],
      "text/plain": [
       "                        temp  first_deseasoned_temp  log_temp  \\\n",
       "date_time                                                       \n",
       "2015-01-01 00:00:00  32.4050                    NaN  3.508706   \n",
       "2015-01-01 01:00:00  32.4050                    NaN  3.508706   \n",
       "2015-01-01 02:00:00  33.6848                    NaN  3.546302   \n",
       "2015-01-01 03:00:00  33.6848                    NaN  3.546302   \n",
       "2015-01-01 04:00:00  33.6848                    NaN  3.546302   \n",
       "\n",
       "                     first_deseasoned_log_temp  \n",
       "date_time                                       \n",
       "2015-01-01 00:00:00                        NaN  \n",
       "2015-01-01 01:00:00                        NaN  \n",
       "2015-01-01 02:00:00                        NaN  \n",
       "2015-01-01 03:00:00                        NaN  \n",
       "2015-01-01 04:00:00                        NaN  "
      ]
     },
     "metadata": {},
     "output_type": "display_data"
    }
   ],
   "source": [
    "display(s_train.head())"
   ]
  },
  {
   "cell_type": "markdown",
   "metadata": {},
   "source": [
    "# PNG files with time plots"
   ]
  },
  {
   "cell_type": "markdown",
   "metadata": {},
   "source": [
    "# PNG file with autocorrelations"
   ]
  },
  {
   "cell_type": "markdown",
   "metadata": {},
   "source": [
    "# Forecasting - Bilbao Data"
   ]
  },
  {
   "cell_type": "markdown",
   "metadata": {},
   "source": [
    "**Data preparation"
   ]
  },
  {
   "cell_type": "code",
   "execution_count": 6,
   "metadata": {},
   "outputs": [
    {
     "data": {
      "text/html": [
       "<div>\n",
       "<style scoped>\n",
       "    .dataframe tbody tr th:only-of-type {\n",
       "        vertical-align: middle;\n",
       "    }\n",
       "\n",
       "    .dataframe tbody tr th {\n",
       "        vertical-align: top;\n",
       "    }\n",
       "\n",
       "    .dataframe thead th {\n",
       "        text-align: right;\n",
       "    }\n",
       "</style>\n",
       "<table border=\"1\" class=\"dataframe\">\n",
       "  <thead>\n",
       "    <tr style=\"text-align: right;\">\n",
       "      <th></th>\n",
       "      <th>temp</th>\n",
       "      <th>first_deseasoned_temp</th>\n",
       "      <th>log_temp</th>\n",
       "      <th>first_deseasoned_log_temp</th>\n",
       "    </tr>\n",
       "    <tr>\n",
       "      <th>date_time</th>\n",
       "      <th></th>\n",
       "      <th></th>\n",
       "      <th></th>\n",
       "      <th></th>\n",
       "    </tr>\n",
       "  </thead>\n",
       "  <tbody>\n",
       "    <tr>\n",
       "      <th>2015-01-01 00:00:00</th>\n",
       "      <td>25.713163</td>\n",
       "      <td>NaN</td>\n",
       "      <td>3.285156</td>\n",
       "      <td>NaN</td>\n",
       "    </tr>\n",
       "    <tr>\n",
       "      <th>2015-01-01 01:00:00</th>\n",
       "      <td>25.904300</td>\n",
       "      <td>NaN</td>\n",
       "      <td>3.292286</td>\n",
       "      <td>NaN</td>\n",
       "    </tr>\n",
       "    <tr>\n",
       "      <th>2015-01-01 02:00:00</th>\n",
       "      <td>24.983038</td>\n",
       "      <td>NaN</td>\n",
       "      <td>3.257444</td>\n",
       "      <td>NaN</td>\n",
       "    </tr>\n",
       "    <tr>\n",
       "      <th>2015-01-01 03:00:00</th>\n",
       "      <td>24.896019</td>\n",
       "      <td>NaN</td>\n",
       "      <td>3.254089</td>\n",
       "      <td>NaN</td>\n",
       "    </tr>\n",
       "    <tr>\n",
       "      <th>2015-01-01 04:00:00</th>\n",
       "      <td>25.403900</td>\n",
       "      <td>NaN</td>\n",
       "      <td>3.273512</td>\n",
       "      <td>NaN</td>\n",
       "    </tr>\n",
       "    <tr>\n",
       "      <th>...</th>\n",
       "      <td>...</td>\n",
       "      <td>...</td>\n",
       "      <td>...</td>\n",
       "      <td>...</td>\n",
       "    </tr>\n",
       "    <tr>\n",
       "      <th>2018-03-14 02:00:00</th>\n",
       "      <td>54.824000</td>\n",
       "      <td>9.810</td>\n",
       "      <td>4.022204</td>\n",
       "      <td>0.193258</td>\n",
       "    </tr>\n",
       "    <tr>\n",
       "      <th>2018-03-14 03:00:00</th>\n",
       "      <td>53.636000</td>\n",
       "      <td>9.414</td>\n",
       "      <td>4.000693</td>\n",
       "      <td>0.189109</td>\n",
       "    </tr>\n",
       "    <tr>\n",
       "      <th>2018-03-14 04:00:00</th>\n",
       "      <td>53.636000</td>\n",
       "      <td>9.414</td>\n",
       "      <td>4.000693</td>\n",
       "      <td>0.189109</td>\n",
       "    </tr>\n",
       "    <tr>\n",
       "      <th>2018-03-14 05:00:00</th>\n",
       "      <td>51.836000</td>\n",
       "      <td>7.632</td>\n",
       "      <td>3.967193</td>\n",
       "      <td>0.156007</td>\n",
       "    </tr>\n",
       "    <tr>\n",
       "      <th>2018-03-14 06:00:00</th>\n",
       "      <td>51.836000</td>\n",
       "      <td>7.614</td>\n",
       "      <td>3.967193</td>\n",
       "      <td>0.155609</td>\n",
       "    </tr>\n",
       "  </tbody>\n",
       "</table>\n",
       "<p>28758 rows × 4 columns</p>\n",
       "</div>"
      ],
      "text/plain": [
       "                          temp  first_deseasoned_temp  log_temp  \\\n",
       "date_time                                                         \n",
       "2015-01-01 00:00:00  25.713163                    NaN  3.285156   \n",
       "2015-01-01 01:00:00  25.904300                    NaN  3.292286   \n",
       "2015-01-01 02:00:00  24.983038                    NaN  3.257444   \n",
       "2015-01-01 03:00:00  24.896019                    NaN  3.254089   \n",
       "2015-01-01 04:00:00  25.403900                    NaN  3.273512   \n",
       "...                        ...                    ...       ...   \n",
       "2018-03-14 02:00:00  54.824000                  9.810  4.022204   \n",
       "2018-03-14 03:00:00  53.636000                  9.414  4.000693   \n",
       "2018-03-14 04:00:00  53.636000                  9.414  4.000693   \n",
       "2018-03-14 05:00:00  51.836000                  7.632  3.967193   \n",
       "2018-03-14 06:00:00  51.836000                  7.614  3.967193   \n",
       "\n",
       "                     first_deseasoned_log_temp  \n",
       "date_time                                       \n",
       "2015-01-01 00:00:00                        NaN  \n",
       "2015-01-01 01:00:00                        NaN  \n",
       "2015-01-01 02:00:00                        NaN  \n",
       "2015-01-01 03:00:00                        NaN  \n",
       "2015-01-01 04:00:00                        NaN  \n",
       "...                                        ...  \n",
       "2018-03-14 02:00:00                   0.193258  \n",
       "2018-03-14 03:00:00                   0.189109  \n",
       "2018-03-14 04:00:00                   0.189109  \n",
       "2018-03-14 05:00:00                   0.156007  \n",
       "2018-03-14 06:00:00                   0.155609  \n",
       "\n",
       "[28758 rows x 4 columns]"
      ]
     },
     "execution_count": 6,
     "metadata": {},
     "output_type": "execute_result"
    }
   ],
   "source": [
    "x_train = b_train\n",
    "x_test = b_test.values\n",
    "\n",
    "x_train"
   ]
  },
  {
   "cell_type": "markdown",
   "metadata": {},
   "source": [
    "## Base models"
   ]
  },
  {
   "cell_type": "code",
   "execution_count": null,
   "metadata": {},
   "outputs": [],
   "source": []
  },
  {
   "cell_type": "markdown",
   "metadata": {},
   "source": [
    "## Smoothing Models"
   ]
  },
  {
   "cell_type": "markdown",
   "metadata": {},
   "source": [
    "## Sarima"
   ]
  }
 ],
 "metadata": {
  "kernelspec": {
   "display_name": "Time-Series",
   "language": "python",
   "name": "time-series"
  },
  "language_info": {
   "codemirror_mode": {
    "name": "ipython",
    "version": 3
   },
   "file_extension": ".py",
   "mimetype": "text/x-python",
   "name": "python",
   "nbconvert_exporter": "python",
   "pygments_lexer": "ipython3",
   "version": "3.7.7"
  }
 },
 "nbformat": 4,
 "nbformat_minor": 4
}
