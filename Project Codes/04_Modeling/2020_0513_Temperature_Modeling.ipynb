{
 "cells": [
  {
   "cell_type": "markdown",
   "metadata": {},
   "source": [
    "# Introduction \n",
    "\n",
    "In the following notebook, I will creating a time series forecast aiming to predict the temperature in Spain. \n",
    "\n",
    "* Raw data can be found [here](https://github.com/KishenSharma6/Weather-Energy-Consumption-in-Spain/tree/master/Data/01_Raw_Data)\n",
    "* Cleaned data can be found [here](https://github.com/KishenSharma6/Weather-Energy-Consumption-in-Spain/tree/master/Data/02_Cleaned_Data)\n",
    "* Training and test data can be found [here](https://github.com/KishenSharma6/Weather-Energy-Consumption-in-Spain/tree/master/Data/03_Processed_Data)"
   ]
  },
  {
   "cell_type": "markdown",
   "metadata": {},
   "source": [
    "**Read in libraries for notebook**"
   ]
  },
  {
   "cell_type": "code",
   "execution_count": 1,
   "metadata": {},
   "outputs": [
    {
     "name": "stderr",
     "output_type": "stream",
     "text": [
      "C:\\Users\\kishe\\AppData\\Roaming\\Python\\Python37\\site-packages\\statsmodels\\tools\\_testing.py:19: FutureWarning: pandas.util.testing is deprecated. Use the functions in the public API at pandas.testing instead.\n",
      "  import pandas.util.testing as tm\n"
     ]
    }
   ],
   "source": [
    "import numpy as np\n",
    "import pandas as pd\n",
    "\n",
    "import matplotlib.pyplot as plt\n",
    "import seaborn as sns\n",
    "import warnings"
   ]
  },
  {
   "cell_type": "markdown",
   "metadata": {},
   "source": [
    "**Set notebook preferences**"
   ]
  },
  {
   "cell_type": "code",
   "execution_count": 2,
   "metadata": {},
   "outputs": [],
   "source": [
    "#Set preferences for pandas \n",
    "pd.set_option(\"display.max_rows\", 101)\n",
    "\n",
    "#Set style for visualizations\n",
    "plt.style.use('Solarize_Light2')\n",
    "\n",
    "#Surpress warnings\n",
    "warnings.filterwarnings('ignore')"
   ]
  },
  {
   "cell_type": "markdown",
   "metadata": {},
   "source": [
    "**Read in data**"
   ]
  },
  {
   "cell_type": "code",
   "execution_count": 3,
   "metadata": {},
   "outputs": [],
   "source": [
    "#Set path to raw data\n",
    "path = r'C:\\Users\\kishe\\Documents\\Data Science\\Projects\\Python Projects\\In Progress\\Spain Hourly Energy Demand and Weather/Data/03_Processed_Data'\n",
    "\n",
    "#Read in Bilbao training and test data\n",
    "train = pd.read_csv(path + '/2020_0515_temp_train.csv', parse_dates=['date_time'], index_col='date_time')\n",
    "test = pd.read_csv(path + '/2020_0515_temp_test.csv', parse_dates=['date_time'], index_col='date_time')"
   ]
  },
  {
   "cell_type": "markdown",
   "metadata": {},
   "source": [
    "**Data preview**"
   ]
  },
  {
   "cell_type": "code",
   "execution_count": 4,
   "metadata": {},
   "outputs": [
    {
     "data": {
      "text/html": [
       "<div>\n",
       "<style scoped>\n",
       "    .dataframe tbody tr th:only-of-type {\n",
       "        vertical-align: middle;\n",
       "    }\n",
       "\n",
       "    .dataframe tbody tr th {\n",
       "        vertical-align: top;\n",
       "    }\n",
       "\n",
       "    .dataframe thead th {\n",
       "        text-align: right;\n",
       "    }\n",
       "</style>\n",
       "<table border=\"1\" class=\"dataframe\">\n",
       "  <thead>\n",
       "    <tr style=\"text-align: right;\">\n",
       "      <th></th>\n",
       "      <th>temp</th>\n",
       "      <th>date</th>\n",
       "      <th>time</th>\n",
       "      <th>weekday</th>\n",
       "      <th>month</th>\n",
       "      <th>year</th>\n",
       "      <th>temp_deseasoned1</th>\n",
       "      <th>deseasoned_24hr_smooth</th>\n",
       "      <th>deseasoned_weekly_smooth</th>\n",
       "    </tr>\n",
       "    <tr>\n",
       "      <th>date_time</th>\n",
       "      <th></th>\n",
       "      <th></th>\n",
       "      <th></th>\n",
       "      <th></th>\n",
       "      <th></th>\n",
       "      <th></th>\n",
       "      <th></th>\n",
       "      <th></th>\n",
       "      <th></th>\n",
       "    </tr>\n",
       "  </thead>\n",
       "  <tbody>\n",
       "    <tr>\n",
       "      <th>2015-01-05 23:00:00</th>\n",
       "      <td>39.085464</td>\n",
       "      <td>2015-01-05</td>\n",
       "      <td>23:00:00</td>\n",
       "      <td>Monday</td>\n",
       "      <td>January</td>\n",
       "      <td>2015</td>\n",
       "      <td>1.111927</td>\n",
       "      <td>-1.074800</td>\n",
       "      <td>0.946834</td>\n",
       "    </tr>\n",
       "    <tr>\n",
       "      <th>2015-01-06 00:00:00</th>\n",
       "      <td>37.943116</td>\n",
       "      <td>2015-01-06</td>\n",
       "      <td>00:00:00</td>\n",
       "      <td>Tuesday</td>\n",
       "      <td>January</td>\n",
       "      <td>2015</td>\n",
       "      <td>0.597544</td>\n",
       "      <td>-1.073884</td>\n",
       "      <td>0.943233</td>\n",
       "    </tr>\n",
       "    <tr>\n",
       "      <th>2015-01-06 01:00:00</th>\n",
       "      <td>37.841360</td>\n",
       "      <td>2015-01-06</td>\n",
       "      <td>01:00:00</td>\n",
       "      <td>Tuesday</td>\n",
       "      <td>January</td>\n",
       "      <td>2015</td>\n",
       "      <td>0.757260</td>\n",
       "      <td>-1.037944</td>\n",
       "      <td>0.941335</td>\n",
       "    </tr>\n",
       "    <tr>\n",
       "      <th>2015-01-06 02:00:00</th>\n",
       "      <td>36.558928</td>\n",
       "      <td>2015-01-06</td>\n",
       "      <td>02:00:00</td>\n",
       "      <td>Tuesday</td>\n",
       "      <td>January</td>\n",
       "      <td>2015</td>\n",
       "      <td>0.111611</td>\n",
       "      <td>-1.017884</td>\n",
       "      <td>0.932954</td>\n",
       "    </tr>\n",
       "    <tr>\n",
       "      <th>2015-01-06 03:00:00</th>\n",
       "      <td>36.595524</td>\n",
       "      <td>2015-01-06</td>\n",
       "      <td>03:00:00</td>\n",
       "      <td>Tuesday</td>\n",
       "      <td>January</td>\n",
       "      <td>2015</td>\n",
       "      <td>0.999000</td>\n",
       "      <td>-0.920989</td>\n",
       "      <td>0.933614</td>\n",
       "    </tr>\n",
       "  </tbody>\n",
       "</table>\n",
       "</div>"
      ],
      "text/plain": [
       "                          temp        date      time  weekday    month  year  \\\n",
       "date_time                                                                      \n",
       "2015-01-05 23:00:00  39.085464  2015-01-05  23:00:00   Monday  January  2015   \n",
       "2015-01-06 00:00:00  37.943116  2015-01-06  00:00:00  Tuesday  January  2015   \n",
       "2015-01-06 01:00:00  37.841360  2015-01-06  01:00:00  Tuesday  January  2015   \n",
       "2015-01-06 02:00:00  36.558928  2015-01-06  02:00:00  Tuesday  January  2015   \n",
       "2015-01-06 03:00:00  36.595524  2015-01-06  03:00:00  Tuesday  January  2015   \n",
       "\n",
       "                     temp_deseasoned1  deseasoned_24hr_smooth  \\\n",
       "date_time                                                       \n",
       "2015-01-05 23:00:00          1.111927               -1.074800   \n",
       "2015-01-06 00:00:00          0.597544               -1.073884   \n",
       "2015-01-06 01:00:00          0.757260               -1.037944   \n",
       "2015-01-06 02:00:00          0.111611               -1.017884   \n",
       "2015-01-06 03:00:00          0.999000               -0.920989   \n",
       "\n",
       "                     deseasoned_weekly_smooth  \n",
       "date_time                                      \n",
       "2015-01-05 23:00:00                  0.946834  \n",
       "2015-01-06 00:00:00                  0.943233  \n",
       "2015-01-06 01:00:00                  0.941335  \n",
       "2015-01-06 02:00:00                  0.932954  \n",
       "2015-01-06 03:00:00                  0.933614  "
      ]
     },
     "metadata": {},
     "output_type": "display_data"
    }
   ],
   "source": [
    "display(train.head())"
   ]
  },
  {
   "cell_type": "code",
   "execution_count": 5,
   "metadata": {},
   "outputs": [
    {
     "data": {
      "text/html": [
       "<div>\n",
       "<style scoped>\n",
       "    .dataframe tbody tr th:only-of-type {\n",
       "        vertical-align: middle;\n",
       "    }\n",
       "\n",
       "    .dataframe tbody tr th {\n",
       "        vertical-align: top;\n",
       "    }\n",
       "\n",
       "    .dataframe thead th {\n",
       "        text-align: right;\n",
       "    }\n",
       "</style>\n",
       "<table border=\"1\" class=\"dataframe\">\n",
       "  <thead>\n",
       "    <tr style=\"text-align: right;\">\n",
       "      <th></th>\n",
       "      <th>temp</th>\n",
       "      <th>date</th>\n",
       "      <th>time</th>\n",
       "      <th>weekday</th>\n",
       "      <th>month</th>\n",
       "      <th>year</th>\n",
       "      <th>temp_deseasoned1</th>\n",
       "      <th>deseasoned_24hr_smooth</th>\n",
       "      <th>deseasoned_weekly_smooth</th>\n",
       "    </tr>\n",
       "    <tr>\n",
       "      <th>date_time</th>\n",
       "      <th></th>\n",
       "      <th></th>\n",
       "      <th></th>\n",
       "      <th></th>\n",
       "      <th></th>\n",
       "      <th></th>\n",
       "      <th></th>\n",
       "      <th></th>\n",
       "      <th></th>\n",
       "    </tr>\n",
       "  </thead>\n",
       "  <tbody>\n",
       "    <tr>\n",
       "      <th>2015-01-05 23:00:00</th>\n",
       "      <td>39.085464</td>\n",
       "      <td>2015-01-05</td>\n",
       "      <td>23:00:00</td>\n",
       "      <td>Monday</td>\n",
       "      <td>January</td>\n",
       "      <td>2015</td>\n",
       "      <td>1.111927</td>\n",
       "      <td>-1.074800</td>\n",
       "      <td>0.946834</td>\n",
       "    </tr>\n",
       "    <tr>\n",
       "      <th>2015-01-06 00:00:00</th>\n",
       "      <td>37.943116</td>\n",
       "      <td>2015-01-06</td>\n",
       "      <td>00:00:00</td>\n",
       "      <td>Tuesday</td>\n",
       "      <td>January</td>\n",
       "      <td>2015</td>\n",
       "      <td>0.597544</td>\n",
       "      <td>-1.073884</td>\n",
       "      <td>0.943233</td>\n",
       "    </tr>\n",
       "    <tr>\n",
       "      <th>2015-01-06 01:00:00</th>\n",
       "      <td>37.841360</td>\n",
       "      <td>2015-01-06</td>\n",
       "      <td>01:00:00</td>\n",
       "      <td>Tuesday</td>\n",
       "      <td>January</td>\n",
       "      <td>2015</td>\n",
       "      <td>0.757260</td>\n",
       "      <td>-1.037944</td>\n",
       "      <td>0.941335</td>\n",
       "    </tr>\n",
       "    <tr>\n",
       "      <th>2015-01-06 02:00:00</th>\n",
       "      <td>36.558928</td>\n",
       "      <td>2015-01-06</td>\n",
       "      <td>02:00:00</td>\n",
       "      <td>Tuesday</td>\n",
       "      <td>January</td>\n",
       "      <td>2015</td>\n",
       "      <td>0.111611</td>\n",
       "      <td>-1.017884</td>\n",
       "      <td>0.932954</td>\n",
       "    </tr>\n",
       "    <tr>\n",
       "      <th>2015-01-06 03:00:00</th>\n",
       "      <td>36.595524</td>\n",
       "      <td>2015-01-06</td>\n",
       "      <td>03:00:00</td>\n",
       "      <td>Tuesday</td>\n",
       "      <td>January</td>\n",
       "      <td>2015</td>\n",
       "      <td>0.999000</td>\n",
       "      <td>-0.920989</td>\n",
       "      <td>0.933614</td>\n",
       "    </tr>\n",
       "  </tbody>\n",
       "</table>\n",
       "</div>"
      ],
      "text/plain": [
       "                          temp        date      time  weekday    month  year  \\\n",
       "date_time                                                                      \n",
       "2015-01-05 23:00:00  39.085464  2015-01-05  23:00:00   Monday  January  2015   \n",
       "2015-01-06 00:00:00  37.943116  2015-01-06  00:00:00  Tuesday  January  2015   \n",
       "2015-01-06 01:00:00  37.841360  2015-01-06  01:00:00  Tuesday  January  2015   \n",
       "2015-01-06 02:00:00  36.558928  2015-01-06  02:00:00  Tuesday  January  2015   \n",
       "2015-01-06 03:00:00  36.595524  2015-01-06  03:00:00  Tuesday  January  2015   \n",
       "\n",
       "                     temp_deseasoned1  deseasoned_24hr_smooth  \\\n",
       "date_time                                                       \n",
       "2015-01-05 23:00:00          1.111927               -1.074800   \n",
       "2015-01-06 00:00:00          0.597544               -1.073884   \n",
       "2015-01-06 01:00:00          0.757260               -1.037944   \n",
       "2015-01-06 02:00:00          0.111611               -1.017884   \n",
       "2015-01-06 03:00:00          0.999000               -0.920989   \n",
       "\n",
       "                     deseasoned_weekly_smooth  \n",
       "date_time                                      \n",
       "2015-01-05 23:00:00                  0.946834  \n",
       "2015-01-06 00:00:00                  0.943233  \n",
       "2015-01-06 01:00:00                  0.941335  \n",
       "2015-01-06 02:00:00                  0.932954  \n",
       "2015-01-06 03:00:00                  0.933614  "
      ]
     },
     "metadata": {},
     "output_type": "display_data"
    }
   ],
   "source": [
    "display(train.head())"
   ]
  },
  {
   "cell_type": "markdown",
   "metadata": {},
   "source": [
    "# PNG files with time plots"
   ]
  },
  {
   "cell_type": "markdown",
   "metadata": {},
   "source": [
    "# PNG file with autocorrelations"
   ]
  },
  {
   "cell_type": "markdown",
   "metadata": {},
   "source": [
    "# Forecasting "
   ]
  },
  {
   "cell_type": "markdown",
   "metadata": {},
   "source": [
    "**Data preparation"
   ]
  },
  {
   "cell_type": "code",
   "execution_count": 13,
   "metadata": {},
   "outputs": [
    {
     "data": {
      "text/plain": [
       "<matplotlib.axes._subplots.AxesSubplot at 0x212e207f248>"
      ]
     },
     "execution_count": 13,
     "metadata": {},
     "output_type": "execute_result"
    },
    {
     "data": {
      "image/png": "[encoded data removed]",
      "text/plain": [
       "<Figure size 1080x720 with 1 Axes>"
      ]
     },
     "metadata": {},
     "output_type": "display_data"
    }
   ],
   "source": [
    "from TimeseriesPlotter import timeseries_plot\n",
    "\n",
    "#Set figure\n",
    "f, ax = plt.subplots(figsize = (15,10))\n",
    "\n",
    "#Plot training and test data\n",
    "timeseries_plot(train.temp, color = 'blue', ax=ax, label = 'train')\n",
    "timeseries_plot(test.temp, color = 'orange', ax = ax, legend = True,label = 'test')"
   ]
  },
  {
   "cell_type": "markdown",
   "metadata": {},
   "source": [
    "## Base models"
   ]
  },
  {
   "cell_type": "code",
   "execution_count": null,
   "metadata": {},
   "outputs": [],
   "source": [
    "tim"
   ]
  },
  {
   "cell_type": "markdown",
   "metadata": {},
   "source": [
    "apply models to transformed data and reintroduce seasonality and smoothing back into it. compare temp to temp\n",
    "\n",
    "also need to calculte metrics"
   ]
  },
  {
   "cell_type": "markdown",
   "metadata": {},
   "source": [
    "## Smoothing Models"
   ]
  },
  {
   "cell_type": "markdown",
   "metadata": {},
   "source": [
    "## Sarima"
   ]
  }
 ],
 "metadata": {
  "kernelspec": {
   "display_name": "Time-Series",
   "language": "python",
   "name": "time-series"
  },
  "language_info": {
   "codemirror_mode": {
    "name": "ipython",
    "version": 3
   },
   "file_extension": ".py",
   "mimetype": "text/x-python",
   "name": "python",
   "nbconvert_exporter": "python",
   "pygments_lexer": "ipython3",
   "version": "3.7.7"
  }
 },
 "nbformat": 4,
 "nbformat_minor": 4
}
