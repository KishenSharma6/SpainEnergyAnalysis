{
 "cells": [
  {
   "cell_type": "markdown",
   "metadata": {},
   "source": [
    "# Introduction \n",
    "\n",
    "In the following notebook, I will be merging 2 cleaned datasets together for an EDA located [here](https://github.com/KishenSharma6/Weather-Energy-Consumption-in-Spain/tree/master/Project%20Codes/02_Exploratory_Data_Analysis).\n",
    "\n",
    "* Raw data can be found [here](https://github.com/KishenSharma6/Weather-Energy-Consumption-in-Spain/tree/master/Data/01_Raw_Data)\n",
    "* Cleaned data can be found [here](https://github.com/KishenSharma6/Weather-Energy-Consumption-in-Spain/tree/master/Data/02_Cleaned_Data)"
   ]
  },
  {
   "cell_type": "markdown",
   "metadata": {},
   "source": [
    "**Read in libraries for notebook**"
   ]
  },
  {
   "cell_type": "code",
   "execution_count": 44,
   "metadata": {},
   "outputs": [],
   "source": [
    "import numpy as np\n",
    "import pandas as pd"
   ]
  },
  {
   "cell_type": "markdown",
   "metadata": {},
   "source": [
    "**Set notebook preferences**"
   ]
  },
  {
   "cell_type": "code",
   "execution_count": 45,
   "metadata": {},
   "outputs": [],
   "source": [
    "#Set preferences for pandas \n",
    "pd.set_option(\"display.max_columns\", 101)"
   ]
  },
  {
   "cell_type": "markdown",
   "metadata": {},
   "source": [
    "**Read in data**"
   ]
  },
  {
   "cell_type": "code",
   "execution_count": 46,
   "metadata": {},
   "outputs": [],
   "source": [
    "#Set path to raw data\n",
    "path = r'C:\\Users\\kishe\\Documents\\Data Science\\Projects\\Python Projects\\In Progress\\Spain Hourly Energy Demand and Weather'\n",
    "\n",
    "#Read in cleaded data\n",
    "weather = pd.read_csv(path + '/Data/02_Cleaned_Data/2020_0505_Cleaned_Weather_Features.csv',\n",
    "                      parse_dates=['date_time'], index_col='date_time')\n",
    "energy =  pd.read_csv(path + '/Data/02_Cleaned_Data/2020_0505_Cleaned_Energy_Dataset.csv',\n",
    "                      parse_dates=['date_time'], index_col='date_time')"
   ]
  },
  {
   "cell_type": "markdown",
   "metadata": {},
   "source": [
    "# Preview Data"
   ]
  },
  {
   "cell_type": "markdown",
   "metadata": {},
   "source": [
    "**Weather data**"
   ]
  },
  {
   "cell_type": "code",
   "execution_count": 47,
   "metadata": {},
   "outputs": [
    {
     "name": "stdout",
     "output_type": "stream",
     "text": [
      "Weather data shape: (35064, 1)\n"
     ]
    },
    {
     "data": {
      "text/html": [
       "<div>\n",
       "<style scoped>\n",
       "    .dataframe tbody tr th:only-of-type {\n",
       "        vertical-align: middle;\n",
       "    }\n",
       "\n",
       "    .dataframe tbody tr th {\n",
       "        vertical-align: top;\n",
       "    }\n",
       "\n",
       "    .dataframe thead th {\n",
       "        text-align: right;\n",
       "    }\n",
       "</style>\n",
       "<table border=\"1\" class=\"dataframe\">\n",
       "  <thead>\n",
       "    <tr style=\"text-align: right;\">\n",
       "      <th></th>\n",
       "      <th>temp</th>\n",
       "    </tr>\n",
       "    <tr>\n",
       "      <th>date_time</th>\n",
       "      <th></th>\n",
       "    </tr>\n",
       "  </thead>\n",
       "  <tbody>\n",
       "    <tr>\n",
       "      <th>2015-01-01 00:00:00</th>\n",
       "      <td>30.814633</td>\n",
       "    </tr>\n",
       "    <tr>\n",
       "      <th>2015-01-01 01:00:00</th>\n",
       "      <td>30.852860</td>\n",
       "    </tr>\n",
       "    <tr>\n",
       "      <th>2015-01-01 02:00:00</th>\n",
       "      <td>30.108448</td>\n",
       "    </tr>\n",
       "    <tr>\n",
       "      <th>2015-01-01 03:00:00</th>\n",
       "      <td>30.091044</td>\n",
       "    </tr>\n",
       "    <tr>\n",
       "      <th>2015-01-01 04:00:00</th>\n",
       "      <td>30.192620</td>\n",
       "    </tr>\n",
       "  </tbody>\n",
       "</table>\n",
       "</div>"
      ],
      "text/plain": [
       "                          temp\n",
       "date_time                     \n",
       "2015-01-01 00:00:00  30.814633\n",
       "2015-01-01 01:00:00  30.852860\n",
       "2015-01-01 02:00:00  30.108448\n",
       "2015-01-01 03:00:00  30.091044\n",
       "2015-01-01 04:00:00  30.192620"
      ]
     },
     "metadata": {},
     "output_type": "display_data"
    }
   ],
   "source": [
    "#View data shape and head\n",
    "print('Weather data shape:', weather.shape)\n",
    "display(weather.head())"
   ]
  },
  {
   "cell_type": "markdown",
   "metadata": {},
   "source": [
    "**Energy data**"
   ]
  },
  {
   "cell_type": "code",
   "execution_count": 48,
   "metadata": {},
   "outputs": [
    {
     "name": "stdout",
     "output_type": "stream",
     "text": [
      "Energy data shape: (35064, 4)\n"
     ]
    },
    {
     "data": {
      "text/html": [
       "<div>\n",
       "<style scoped>\n",
       "    .dataframe tbody tr th:only-of-type {\n",
       "        vertical-align: middle;\n",
       "    }\n",
       "\n",
       "    .dataframe tbody tr th {\n",
       "        vertical-align: top;\n",
       "    }\n",
       "\n",
       "    .dataframe thead th {\n",
       "        text-align: right;\n",
       "    }\n",
       "</style>\n",
       "<table border=\"1\" class=\"dataframe\">\n",
       "  <thead>\n",
       "    <tr style=\"text-align: right;\">\n",
       "      <th></th>\n",
       "      <th>total_load_forecast</th>\n",
       "      <th>total_load_actual</th>\n",
       "      <th>price_day_ahead</th>\n",
       "      <th>price_actual</th>\n",
       "    </tr>\n",
       "    <tr>\n",
       "      <th>date_time</th>\n",
       "      <th></th>\n",
       "      <th></th>\n",
       "      <th></th>\n",
       "      <th></th>\n",
       "    </tr>\n",
       "  </thead>\n",
       "  <tbody>\n",
       "    <tr>\n",
       "      <th>2015-01-01 00:00:00</th>\n",
       "      <td>26118.0</td>\n",
       "      <td>25385.0</td>\n",
       "      <td>50.10</td>\n",
       "      <td>65.41</td>\n",
       "    </tr>\n",
       "    <tr>\n",
       "      <th>2015-01-01 01:00:00</th>\n",
       "      <td>24934.0</td>\n",
       "      <td>24382.0</td>\n",
       "      <td>48.10</td>\n",
       "      <td>64.92</td>\n",
       "    </tr>\n",
       "    <tr>\n",
       "      <th>2015-01-01 02:00:00</th>\n",
       "      <td>23515.0</td>\n",
       "      <td>22734.0</td>\n",
       "      <td>47.33</td>\n",
       "      <td>64.48</td>\n",
       "    </tr>\n",
       "    <tr>\n",
       "      <th>2015-01-01 03:00:00</th>\n",
       "      <td>22642.0</td>\n",
       "      <td>21286.0</td>\n",
       "      <td>42.27</td>\n",
       "      <td>59.32</td>\n",
       "    </tr>\n",
       "    <tr>\n",
       "      <th>2015-01-01 04:00:00</th>\n",
       "      <td>21785.0</td>\n",
       "      <td>20264.0</td>\n",
       "      <td>38.41</td>\n",
       "      <td>56.04</td>\n",
       "    </tr>\n",
       "  </tbody>\n",
       "</table>\n",
       "</div>"
      ],
      "text/plain": [
       "                     total_load_forecast  total_load_actual  price_day_ahead  \\\n",
       "date_time                                                                      \n",
       "2015-01-01 00:00:00              26118.0            25385.0            50.10   \n",
       "2015-01-01 01:00:00              24934.0            24382.0            48.10   \n",
       "2015-01-01 02:00:00              23515.0            22734.0            47.33   \n",
       "2015-01-01 03:00:00              22642.0            21286.0            42.27   \n",
       "2015-01-01 04:00:00              21785.0            20264.0            38.41   \n",
       "\n",
       "                     price_actual  \n",
       "date_time                          \n",
       "2015-01-01 00:00:00         65.41  \n",
       "2015-01-01 01:00:00         64.92  \n",
       "2015-01-01 02:00:00         64.48  \n",
       "2015-01-01 03:00:00         59.32  \n",
       "2015-01-01 04:00:00         56.04  "
      ]
     },
     "metadata": {},
     "output_type": "display_data"
    }
   ],
   "source": [
    "#View data shape and head\n",
    "print('Energy data shape:', energy.shape)\n",
    "display(energy.head())"
   ]
  },
  {
   "cell_type": "markdown",
   "metadata": {},
   "source": [
    "# Merge data"
   ]
  },
  {
   "cell_type": "code",
   "execution_count": 49,
   "metadata": {},
   "outputs": [
    {
     "name": "stdout",
     "output_type": "stream",
     "text": [
      "Merged data frame shape:  (35072, 5)\n"
     ]
    },
    {
     "data": {
      "text/html": [
       "<div>\n",
       "<style scoped>\n",
       "    .dataframe tbody tr th:only-of-type {\n",
       "        vertical-align: middle;\n",
       "    }\n",
       "\n",
       "    .dataframe tbody tr th {\n",
       "        vertical-align: top;\n",
       "    }\n",
       "\n",
       "    .dataframe thead th {\n",
       "        text-align: right;\n",
       "    }\n",
       "</style>\n",
       "<table border=\"1\" class=\"dataframe\">\n",
       "  <thead>\n",
       "    <tr style=\"text-align: right;\">\n",
       "      <th></th>\n",
       "      <th>price_actual</th>\n",
       "      <th>price_day_ahead</th>\n",
       "      <th>temp</th>\n",
       "      <th>total_load_actual</th>\n",
       "      <th>total_load_forecast</th>\n",
       "    </tr>\n",
       "    <tr>\n",
       "      <th>date_time</th>\n",
       "      <th></th>\n",
       "      <th></th>\n",
       "      <th></th>\n",
       "      <th></th>\n",
       "      <th></th>\n",
       "    </tr>\n",
       "  </thead>\n",
       "  <tbody>\n",
       "    <tr>\n",
       "      <th>2015-01-01 00:00:00</th>\n",
       "      <td>65.41</td>\n",
       "      <td>50.10</td>\n",
       "      <td>30.814633</td>\n",
       "      <td>25385.0</td>\n",
       "      <td>26118.0</td>\n",
       "    </tr>\n",
       "    <tr>\n",
       "      <th>2015-01-01 01:00:00</th>\n",
       "      <td>64.92</td>\n",
       "      <td>48.10</td>\n",
       "      <td>30.852860</td>\n",
       "      <td>24382.0</td>\n",
       "      <td>24934.0</td>\n",
       "    </tr>\n",
       "    <tr>\n",
       "      <th>2015-01-01 02:00:00</th>\n",
       "      <td>64.48</td>\n",
       "      <td>47.33</td>\n",
       "      <td>30.108448</td>\n",
       "      <td>22734.0</td>\n",
       "      <td>23515.0</td>\n",
       "    </tr>\n",
       "    <tr>\n",
       "      <th>2015-01-01 03:00:00</th>\n",
       "      <td>59.32</td>\n",
       "      <td>42.27</td>\n",
       "      <td>30.091044</td>\n",
       "      <td>21286.0</td>\n",
       "      <td>22642.0</td>\n",
       "    </tr>\n",
       "    <tr>\n",
       "      <th>2015-01-01 04:00:00</th>\n",
       "      <td>56.04</td>\n",
       "      <td>38.41</td>\n",
       "      <td>30.192620</td>\n",
       "      <td>20264.0</td>\n",
       "      <td>21785.0</td>\n",
       "    </tr>\n",
       "  </tbody>\n",
       "</table>\n",
       "</div>"
      ],
      "text/plain": [
       "                     price_actual  price_day_ahead       temp  \\\n",
       "date_time                                                       \n",
       "2015-01-01 00:00:00         65.41            50.10  30.814633   \n",
       "2015-01-01 01:00:00         64.92            48.10  30.852860   \n",
       "2015-01-01 02:00:00         64.48            47.33  30.108448   \n",
       "2015-01-01 03:00:00         59.32            42.27  30.091044   \n",
       "2015-01-01 04:00:00         56.04            38.41  30.192620   \n",
       "\n",
       "                     total_load_actual  total_load_forecast  \n",
       "date_time                                                    \n",
       "2015-01-01 00:00:00            25385.0              26118.0  \n",
       "2015-01-01 01:00:00            24382.0              24934.0  \n",
       "2015-01-01 02:00:00            22734.0              23515.0  \n",
       "2015-01-01 03:00:00            21286.0              22642.0  \n",
       "2015-01-01 04:00:00            20264.0              21785.0  "
      ]
     },
     "metadata": {},
     "output_type": "display_data"
    }
   ],
   "source": [
    "#Merge datasets on index\n",
    "merged_df = pd.merge(energy, weather, left_index=True, right_index=True)\n",
    "\n",
    "#Sort merged columns alphabetically\n",
    "merged_df = merged_df.reindex(sorted(merged_df.columns), axis=1)\n",
    "\n",
    "#Check\n",
    "print('Merged data frame shape: ', merged_df.shape)\n",
    "display(merged_df.head())"
   ]
  },
  {
   "cell_type": "code",
   "execution_count": 50,
   "metadata": {},
   "outputs": [
    {
     "data": {
      "text/html": [
       "<div>\n",
       "<style scoped>\n",
       "    .dataframe tbody tr th:only-of-type {\n",
       "        vertical-align: middle;\n",
       "    }\n",
       "\n",
       "    .dataframe tbody tr th {\n",
       "        vertical-align: top;\n",
       "    }\n",
       "\n",
       "    .dataframe thead th {\n",
       "        text-align: right;\n",
       "    }\n",
       "</style>\n",
       "<table border=\"1\" class=\"dataframe\">\n",
       "  <thead>\n",
       "    <tr style=\"text-align: right;\">\n",
       "      <th></th>\n",
       "      <th>price_actual</th>\n",
       "      <th>price_day_ahead</th>\n",
       "      <th>temp</th>\n",
       "      <th>total_load_actual</th>\n",
       "      <th>total_load_forecast</th>\n",
       "      <th>date</th>\n",
       "      <th>time</th>\n",
       "      <th>weekday</th>\n",
       "      <th>month</th>\n",
       "      <th>year</th>\n",
       "    </tr>\n",
       "    <tr>\n",
       "      <th>date_time</th>\n",
       "      <th></th>\n",
       "      <th></th>\n",
       "      <th></th>\n",
       "      <th></th>\n",
       "      <th></th>\n",
       "      <th></th>\n",
       "      <th></th>\n",
       "      <th></th>\n",
       "      <th></th>\n",
       "      <th></th>\n",
       "    </tr>\n",
       "  </thead>\n",
       "  <tbody>\n",
       "    <tr>\n",
       "      <th>2015-01-01 00:00:00</th>\n",
       "      <td>65.41</td>\n",
       "      <td>50.10</td>\n",
       "      <td>30.814633</td>\n",
       "      <td>25385.0</td>\n",
       "      <td>26118.0</td>\n",
       "      <td>2015-01-01</td>\n",
       "      <td>00:00:00</td>\n",
       "      <td>Thursday</td>\n",
       "      <td>January</td>\n",
       "      <td>2015</td>\n",
       "    </tr>\n",
       "    <tr>\n",
       "      <th>2015-01-01 01:00:00</th>\n",
       "      <td>64.92</td>\n",
       "      <td>48.10</td>\n",
       "      <td>30.852860</td>\n",
       "      <td>24382.0</td>\n",
       "      <td>24934.0</td>\n",
       "      <td>2015-01-01</td>\n",
       "      <td>01:00:00</td>\n",
       "      <td>Thursday</td>\n",
       "      <td>January</td>\n",
       "      <td>2015</td>\n",
       "    </tr>\n",
       "    <tr>\n",
       "      <th>2015-01-01 02:00:00</th>\n",
       "      <td>64.48</td>\n",
       "      <td>47.33</td>\n",
       "      <td>30.108448</td>\n",
       "      <td>22734.0</td>\n",
       "      <td>23515.0</td>\n",
       "      <td>2015-01-01</td>\n",
       "      <td>02:00:00</td>\n",
       "      <td>Thursday</td>\n",
       "      <td>January</td>\n",
       "      <td>2015</td>\n",
       "    </tr>\n",
       "    <tr>\n",
       "      <th>2015-01-01 03:00:00</th>\n",
       "      <td>59.32</td>\n",
       "      <td>42.27</td>\n",
       "      <td>30.091044</td>\n",
       "      <td>21286.0</td>\n",
       "      <td>22642.0</td>\n",
       "      <td>2015-01-01</td>\n",
       "      <td>03:00:00</td>\n",
       "      <td>Thursday</td>\n",
       "      <td>January</td>\n",
       "      <td>2015</td>\n",
       "    </tr>\n",
       "    <tr>\n",
       "      <th>2015-01-01 04:00:00</th>\n",
       "      <td>56.04</td>\n",
       "      <td>38.41</td>\n",
       "      <td>30.192620</td>\n",
       "      <td>20264.0</td>\n",
       "      <td>21785.0</td>\n",
       "      <td>2015-01-01</td>\n",
       "      <td>04:00:00</td>\n",
       "      <td>Thursday</td>\n",
       "      <td>January</td>\n",
       "      <td>2015</td>\n",
       "    </tr>\n",
       "  </tbody>\n",
       "</table>\n",
       "</div>"
      ],
      "text/plain": [
       "                     price_actual  price_day_ahead       temp  \\\n",
       "date_time                                                       \n",
       "2015-01-01 00:00:00         65.41            50.10  30.814633   \n",
       "2015-01-01 01:00:00         64.92            48.10  30.852860   \n",
       "2015-01-01 02:00:00         64.48            47.33  30.108448   \n",
       "2015-01-01 03:00:00         59.32            42.27  30.091044   \n",
       "2015-01-01 04:00:00         56.04            38.41  30.192620   \n",
       "\n",
       "                     total_load_actual  total_load_forecast        date  \\\n",
       "date_time                                                                 \n",
       "2015-01-01 00:00:00            25385.0              26118.0  2015-01-01   \n",
       "2015-01-01 01:00:00            24382.0              24934.0  2015-01-01   \n",
       "2015-01-01 02:00:00            22734.0              23515.0  2015-01-01   \n",
       "2015-01-01 03:00:00            21286.0              22642.0  2015-01-01   \n",
       "2015-01-01 04:00:00            20264.0              21785.0  2015-01-01   \n",
       "\n",
       "                         time   weekday    month  year  \n",
       "date_time                                               \n",
       "2015-01-01 00:00:00  00:00:00  Thursday  January  2015  \n",
       "2015-01-01 01:00:00  01:00:00  Thursday  January  2015  \n",
       "2015-01-01 02:00:00  02:00:00  Thursday  January  2015  \n",
       "2015-01-01 03:00:00  03:00:00  Thursday  January  2015  \n",
       "2015-01-01 04:00:00  04:00:00  Thursday  January  2015  "
      ]
     },
     "metadata": {},
     "output_type": "display_data"
    }
   ],
   "source": [
    "#Reset Index\n",
    "merged_df.reset_index(inplace=True)\n",
    "\n",
    "#Create columns extracting time, month, date, year data\n",
    "merged_df['date'] = merged_df.date_time.dt.date\n",
    "merged_df['time'] = merged_df.date_time.dt.time\n",
    "merged_df['weekday'] = merged_df.date_time.dt.day_name()\n",
    "merged_df['month'] = merged_df.date_time.dt.month_name()\n",
    "merged_df['year'] = merged_df.date_time.dt.year\n",
    "\n",
    "#Re-set index\n",
    "merged_df.set_index('date_time', inplace = True)\n",
    "\n",
    "#Check\n",
    "display(merged_df.head())"
   ]
  },
  {
   "cell_type": "markdown",
   "metadata": {},
   "source": [
    "# Write merged data to CSV"
   ]
  },
  {
   "cell_type": "code",
   "execution_count": 51,
   "metadata": {},
   "outputs": [
    {
     "name": "stdout",
     "output_type": "stream",
     "text": [
      "Final shape of merged data: (35072, 10)\n"
     ]
    }
   ],
   "source": [
    "#View final shape of merged data\n",
    "print('Final shape of merged data:', merged_df.shape)\n",
    "\n",
    "#Write file\n",
    "merged_df.to_csv(path + '/Data/02_Cleaned_Data/2020_0514_Weather_Energy.csv',)"
   ]
  }
 ],
 "metadata": {
  "kernelspec": {
   "display_name": "EDA",
   "language": "python",
   "name": "eda"
  },
  "language_info": {
   "codemirror_mode": {
    "name": "ipython",
    "version": 3
   },
   "file_extension": ".py",
   "mimetype": "text/x-python",
   "name": "python",
   "nbconvert_exporter": "python",
   "pygments_lexer": "ipython3",
   "version": "3.8.2"
  }
 },
 "nbformat": 4,
 "nbformat_minor": 4
}
