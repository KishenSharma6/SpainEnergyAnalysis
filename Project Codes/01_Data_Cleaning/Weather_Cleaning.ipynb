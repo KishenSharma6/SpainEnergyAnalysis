{
 "cells": [
  {
   "cell_type": "markdown",
   "metadata": {},
   "source": [
    "# Introduction \n",
    "\n",
    "In the following notebook, I will be cleaning the weather_features.csv file."
   ]
  },
  {
   "cell_type": "markdown",
   "metadata": {},
   "source": [
    "**Read in libraries for notebook**"
   ]
  },
  {
   "cell_type": "code",
   "execution_count": 5,
   "metadata": {},
   "outputs": [],
   "source": [
    "import numpy as np\n",
    "import pandas as pd\n",
    "import matplotlib.pyplot as plt"
   ]
  },
  {
   "cell_type": "markdown",
   "metadata": {},
   "source": [
    "**Set notebook preferences**"
   ]
  },
  {
   "cell_type": "code",
   "execution_count": 6,
   "metadata": {},
   "outputs": [],
   "source": [
    "#Set style for visualizations\n",
    "plt.style.use('Solarize_Light2')"
   ]
  },
  {
   "cell_type": "markdown",
   "metadata": {},
   "source": [
    "**Read in data**"
   ]
  },
  {
   "cell_type": "code",
   "execution_count": 10,
   "metadata": {},
   "outputs": [],
   "source": [
    "#Set path to raw data\n",
    "path = r'C:\\Users\\kishe\\Documents\\Data Science\\Projects\\Python Projects\\In Progress\\Spain Hourly Energy Demand and Weather\\Data\\01_Raw_Data'\n",
    "\n",
    "#Read in raw data\n",
    "df = pd.read_csv(path + '/weather_features.csv', index_col='dt_iso')"
   ]
  },
  {
   "cell_type": "markdown",
   "metadata": {},
   "source": [
    "# Data Overview"
   ]
  },
  {
   "cell_type": "markdown",
   "metadata": {},
   "source": [
    "**Data Preview**"
   ]
  },
  {
   "cell_type": "code",
   "execution_count": 12,
   "metadata": {},
   "outputs": [
    {
     "name": "stdout",
     "output_type": "stream",
     "text": [
      "Shape of df:  (178396, 16)\n"
     ]
    },
    {
     "data": {
      "text/html": [
       "<div>\n",
       "<style scoped>\n",
       "    .dataframe tbody tr th:only-of-type {\n",
       "        vertical-align: middle;\n",
       "    }\n",
       "\n",
       "    .dataframe tbody tr th {\n",
       "        vertical-align: top;\n",
       "    }\n",
       "\n",
       "    .dataframe thead th {\n",
       "        text-align: right;\n",
       "    }\n",
       "</style>\n",
       "<table border=\"1\" class=\"dataframe\">\n",
       "  <thead>\n",
       "    <tr style=\"text-align: right;\">\n",
       "      <th></th>\n",
       "      <th>city_name</th>\n",
       "      <th>temp</th>\n",
       "      <th>temp_min</th>\n",
       "      <th>temp_max</th>\n",
       "      <th>pressure</th>\n",
       "      <th>humidity</th>\n",
       "      <th>wind_speed</th>\n",
       "      <th>wind_deg</th>\n",
       "      <th>rain_1h</th>\n",
       "      <th>rain_3h</th>\n",
       "      <th>snow_3h</th>\n",
       "      <th>clouds_all</th>\n",
       "      <th>weather_id</th>\n",
       "      <th>weather_main</th>\n",
       "      <th>weather_description</th>\n",
       "      <th>weather_icon</th>\n",
       "    </tr>\n",
       "    <tr>\n",
       "      <th>dt_iso</th>\n",
       "      <th></th>\n",
       "      <th></th>\n",
       "      <th></th>\n",
       "      <th></th>\n",
       "      <th></th>\n",
       "      <th></th>\n",
       "      <th></th>\n",
       "      <th></th>\n",
       "      <th></th>\n",
       "      <th></th>\n",
       "      <th></th>\n",
       "      <th></th>\n",
       "      <th></th>\n",
       "      <th></th>\n",
       "      <th></th>\n",
       "      <th></th>\n",
       "    </tr>\n",
       "  </thead>\n",
       "  <tbody>\n",
       "    <tr>\n",
       "      <th>2015-01-01 00:00:00+01:00</th>\n",
       "      <td>Valencia</td>\n",
       "      <td>270.475</td>\n",
       "      <td>270.475</td>\n",
       "      <td>270.475</td>\n",
       "      <td>1001</td>\n",
       "      <td>77</td>\n",
       "      <td>1</td>\n",
       "      <td>62</td>\n",
       "      <td>0.0</td>\n",
       "      <td>0.0</td>\n",
       "      <td>0.0</td>\n",
       "      <td>0</td>\n",
       "      <td>800</td>\n",
       "      <td>clear</td>\n",
       "      <td>sky is clear</td>\n",
       "      <td>01n</td>\n",
       "    </tr>\n",
       "    <tr>\n",
       "      <th>2015-01-01 01:00:00+01:00</th>\n",
       "      <td>Valencia</td>\n",
       "      <td>270.475</td>\n",
       "      <td>270.475</td>\n",
       "      <td>270.475</td>\n",
       "      <td>1001</td>\n",
       "      <td>77</td>\n",
       "      <td>1</td>\n",
       "      <td>62</td>\n",
       "      <td>0.0</td>\n",
       "      <td>0.0</td>\n",
       "      <td>0.0</td>\n",
       "      <td>0</td>\n",
       "      <td>800</td>\n",
       "      <td>clear</td>\n",
       "      <td>sky is clear</td>\n",
       "      <td>01n</td>\n",
       "    </tr>\n",
       "    <tr>\n",
       "      <th>2015-01-01 02:00:00+01:00</th>\n",
       "      <td>Valencia</td>\n",
       "      <td>269.686</td>\n",
       "      <td>269.686</td>\n",
       "      <td>269.686</td>\n",
       "      <td>1002</td>\n",
       "      <td>78</td>\n",
       "      <td>0</td>\n",
       "      <td>23</td>\n",
       "      <td>0.0</td>\n",
       "      <td>0.0</td>\n",
       "      <td>0.0</td>\n",
       "      <td>0</td>\n",
       "      <td>800</td>\n",
       "      <td>clear</td>\n",
       "      <td>sky is clear</td>\n",
       "      <td>01n</td>\n",
       "    </tr>\n",
       "    <tr>\n",
       "      <th>2015-01-01 03:00:00+01:00</th>\n",
       "      <td>Valencia</td>\n",
       "      <td>269.686</td>\n",
       "      <td>269.686</td>\n",
       "      <td>269.686</td>\n",
       "      <td>1002</td>\n",
       "      <td>78</td>\n",
       "      <td>0</td>\n",
       "      <td>23</td>\n",
       "      <td>0.0</td>\n",
       "      <td>0.0</td>\n",
       "      <td>0.0</td>\n",
       "      <td>0</td>\n",
       "      <td>800</td>\n",
       "      <td>clear</td>\n",
       "      <td>sky is clear</td>\n",
       "      <td>01n</td>\n",
       "    </tr>\n",
       "    <tr>\n",
       "      <th>2015-01-01 04:00:00+01:00</th>\n",
       "      <td>Valencia</td>\n",
       "      <td>269.686</td>\n",
       "      <td>269.686</td>\n",
       "      <td>269.686</td>\n",
       "      <td>1002</td>\n",
       "      <td>78</td>\n",
       "      <td>0</td>\n",
       "      <td>23</td>\n",
       "      <td>0.0</td>\n",
       "      <td>0.0</td>\n",
       "      <td>0.0</td>\n",
       "      <td>0</td>\n",
       "      <td>800</td>\n",
       "      <td>clear</td>\n",
       "      <td>sky is clear</td>\n",
       "      <td>01n</td>\n",
       "    </tr>\n",
       "  </tbody>\n",
       "</table>\n",
       "</div>"
      ],
      "text/plain": [
       "                          city_name     temp  temp_min  temp_max  pressure  \\\n",
       "dt_iso                                                                       \n",
       "2015-01-01 00:00:00+01:00  Valencia  270.475   270.475   270.475      1001   \n",
       "2015-01-01 01:00:00+01:00  Valencia  270.475   270.475   270.475      1001   \n",
       "2015-01-01 02:00:00+01:00  Valencia  269.686   269.686   269.686      1002   \n",
       "2015-01-01 03:00:00+01:00  Valencia  269.686   269.686   269.686      1002   \n",
       "2015-01-01 04:00:00+01:00  Valencia  269.686   269.686   269.686      1002   \n",
       "\n",
       "                           humidity  wind_speed  wind_deg  rain_1h  rain_3h  \\\n",
       "dt_iso                                                                        \n",
       "2015-01-01 00:00:00+01:00        77           1        62      0.0      0.0   \n",
       "2015-01-01 01:00:00+01:00        77           1        62      0.0      0.0   \n",
       "2015-01-01 02:00:00+01:00        78           0        23      0.0      0.0   \n",
       "2015-01-01 03:00:00+01:00        78           0        23      0.0      0.0   \n",
       "2015-01-01 04:00:00+01:00        78           0        23      0.0      0.0   \n",
       "\n",
       "                           snow_3h  clouds_all  weather_id weather_main  \\\n",
       "dt_iso                                                                    \n",
       "2015-01-01 00:00:00+01:00      0.0           0         800        clear   \n",
       "2015-01-01 01:00:00+01:00      0.0           0         800        clear   \n",
       "2015-01-01 02:00:00+01:00      0.0           0         800        clear   \n",
       "2015-01-01 03:00:00+01:00      0.0           0         800        clear   \n",
       "2015-01-01 04:00:00+01:00      0.0           0         800        clear   \n",
       "\n",
       "                          weather_description weather_icon  \n",
       "dt_iso                                                      \n",
       "2015-01-01 00:00:00+01:00        sky is clear          01n  \n",
       "2015-01-01 01:00:00+01:00        sky is clear          01n  \n",
       "2015-01-01 02:00:00+01:00        sky is clear          01n  \n",
       "2015-01-01 03:00:00+01:00        sky is clear          01n  \n",
       "2015-01-01 04:00:00+01:00        sky is clear          01n  "
      ]
     },
     "execution_count": 12,
     "metadata": {},
     "output_type": "execute_result"
    }
   ],
   "source": [
    "#Print df shape\n",
    "print('Shape of data:', df.shape)\n",
    "\n",
    "#View head\n",
    "df.head()"
   ]
  },
  {
   "cell_type": "markdown",
   "metadata": {},
   "source": [
    "**Summary Statistics**"
   ]
  },
  {
   "cell_type": "code",
   "execution_count": 14,
   "metadata": {},
   "outputs": [
    {
     "data": {
      "text/html": [
       "<div>\n",
       "<style scoped>\n",
       "    .dataframe tbody tr th:only-of-type {\n",
       "        vertical-align: middle;\n",
       "    }\n",
       "\n",
       "    .dataframe tbody tr th {\n",
       "        vertical-align: top;\n",
       "    }\n",
       "\n",
       "    .dataframe thead th {\n",
       "        text-align: right;\n",
       "    }\n",
       "</style>\n",
       "<table border=\"1\" class=\"dataframe\">\n",
       "  <thead>\n",
       "    <tr style=\"text-align: right;\">\n",
       "      <th></th>\n",
       "      <th>temp</th>\n",
       "      <th>temp_min</th>\n",
       "      <th>temp_max</th>\n",
       "      <th>pressure</th>\n",
       "      <th>humidity</th>\n",
       "      <th>wind_speed</th>\n",
       "      <th>wind_deg</th>\n",
       "      <th>rain_1h</th>\n",
       "      <th>rain_3h</th>\n",
       "      <th>snow_3h</th>\n",
       "      <th>clouds_all</th>\n",
       "      <th>weather_id</th>\n",
       "    </tr>\n",
       "  </thead>\n",
       "  <tbody>\n",
       "    <tr>\n",
       "      <th>count</th>\n",
       "      <td>178396.000000</td>\n",
       "      <td>178396.000000</td>\n",
       "      <td>178396.000000</td>\n",
       "      <td>1.783960e+05</td>\n",
       "      <td>178396.000000</td>\n",
       "      <td>178396.00000</td>\n",
       "      <td>178396.000000</td>\n",
       "      <td>178396.000000</td>\n",
       "      <td>178396.000000</td>\n",
       "      <td>178396.000000</td>\n",
       "      <td>178396.000000</td>\n",
       "      <td>178396.000000</td>\n",
       "    </tr>\n",
       "    <tr>\n",
       "      <th>mean</th>\n",
       "      <td>289.618605</td>\n",
       "      <td>288.330442</td>\n",
       "      <td>291.091267</td>\n",
       "      <td>1.069261e+03</td>\n",
       "      <td>68.423457</td>\n",
       "      <td>2.47056</td>\n",
       "      <td>166.591190</td>\n",
       "      <td>0.075492</td>\n",
       "      <td>0.000380</td>\n",
       "      <td>0.004763</td>\n",
       "      <td>25.073292</td>\n",
       "      <td>759.831902</td>\n",
       "    </tr>\n",
       "    <tr>\n",
       "      <th>std</th>\n",
       "      <td>8.026199</td>\n",
       "      <td>7.955491</td>\n",
       "      <td>8.612454</td>\n",
       "      <td>5.969632e+03</td>\n",
       "      <td>21.902888</td>\n",
       "      <td>2.09591</td>\n",
       "      <td>116.611927</td>\n",
       "      <td>0.398847</td>\n",
       "      <td>0.007288</td>\n",
       "      <td>0.222604</td>\n",
       "      <td>30.774129</td>\n",
       "      <td>108.733223</td>\n",
       "    </tr>\n",
       "    <tr>\n",
       "      <th>min</th>\n",
       "      <td>262.240000</td>\n",
       "      <td>262.240000</td>\n",
       "      <td>262.240000</td>\n",
       "      <td>0.000000e+00</td>\n",
       "      <td>0.000000</td>\n",
       "      <td>0.00000</td>\n",
       "      <td>0.000000</td>\n",
       "      <td>0.000000</td>\n",
       "      <td>0.000000</td>\n",
       "      <td>0.000000</td>\n",
       "      <td>0.000000</td>\n",
       "      <td>200.000000</td>\n",
       "    </tr>\n",
       "    <tr>\n",
       "      <th>25%</th>\n",
       "      <td>283.670000</td>\n",
       "      <td>282.483602</td>\n",
       "      <td>284.650000</td>\n",
       "      <td>1.013000e+03</td>\n",
       "      <td>53.000000</td>\n",
       "      <td>1.00000</td>\n",
       "      <td>55.000000</td>\n",
       "      <td>0.000000</td>\n",
       "      <td>0.000000</td>\n",
       "      <td>0.000000</td>\n",
       "      <td>0.000000</td>\n",
       "      <td>800.000000</td>\n",
       "    </tr>\n",
       "    <tr>\n",
       "      <th>50%</th>\n",
       "      <td>289.150000</td>\n",
       "      <td>288.150000</td>\n",
       "      <td>290.150000</td>\n",
       "      <td>1.018000e+03</td>\n",
       "      <td>72.000000</td>\n",
       "      <td>2.00000</td>\n",
       "      <td>177.000000</td>\n",
       "      <td>0.000000</td>\n",
       "      <td>0.000000</td>\n",
       "      <td>0.000000</td>\n",
       "      <td>20.000000</td>\n",
       "      <td>800.000000</td>\n",
       "    </tr>\n",
       "    <tr>\n",
       "      <th>75%</th>\n",
       "      <td>295.150000</td>\n",
       "      <td>293.730125</td>\n",
       "      <td>297.150000</td>\n",
       "      <td>1.022000e+03</td>\n",
       "      <td>87.000000</td>\n",
       "      <td>4.00000</td>\n",
       "      <td>270.000000</td>\n",
       "      <td>0.000000</td>\n",
       "      <td>0.000000</td>\n",
       "      <td>0.000000</td>\n",
       "      <td>40.000000</td>\n",
       "      <td>801.000000</td>\n",
       "    </tr>\n",
       "    <tr>\n",
       "      <th>max</th>\n",
       "      <td>315.600000</td>\n",
       "      <td>315.150000</td>\n",
       "      <td>321.150000</td>\n",
       "      <td>1.008371e+06</td>\n",
       "      <td>100.000000</td>\n",
       "      <td>133.00000</td>\n",
       "      <td>360.000000</td>\n",
       "      <td>12.000000</td>\n",
       "      <td>2.315000</td>\n",
       "      <td>21.500000</td>\n",
       "      <td>100.000000</td>\n",
       "      <td>804.000000</td>\n",
       "    </tr>\n",
       "  </tbody>\n",
       "</table>\n",
       "</div>"
      ],
      "text/plain": [
       "                temp       temp_min       temp_max      pressure  \\\n",
       "count  178396.000000  178396.000000  178396.000000  1.783960e+05   \n",
       "mean      289.618605     288.330442     291.091267  1.069261e+03   \n",
       "std         8.026199       7.955491       8.612454  5.969632e+03   \n",
       "min       262.240000     262.240000     262.240000  0.000000e+00   \n",
       "25%       283.670000     282.483602     284.650000  1.013000e+03   \n",
       "50%       289.150000     288.150000     290.150000  1.018000e+03   \n",
       "75%       295.150000     293.730125     297.150000  1.022000e+03   \n",
       "max       315.600000     315.150000     321.150000  1.008371e+06   \n",
       "\n",
       "            humidity    wind_speed       wind_deg        rain_1h  \\\n",
       "count  178396.000000  178396.00000  178396.000000  178396.000000   \n",
       "mean       68.423457       2.47056     166.591190       0.075492   \n",
       "std        21.902888       2.09591     116.611927       0.398847   \n",
       "min         0.000000       0.00000       0.000000       0.000000   \n",
       "25%        53.000000       1.00000      55.000000       0.000000   \n",
       "50%        72.000000       2.00000     177.000000       0.000000   \n",
       "75%        87.000000       4.00000     270.000000       0.000000   \n",
       "max       100.000000     133.00000     360.000000      12.000000   \n",
       "\n",
       "             rain_3h        snow_3h     clouds_all     weather_id  \n",
       "count  178396.000000  178396.000000  178396.000000  178396.000000  \n",
       "mean        0.000380       0.004763      25.073292     759.831902  \n",
       "std         0.007288       0.222604      30.774129     108.733223  \n",
       "min         0.000000       0.000000       0.000000     200.000000  \n",
       "25%         0.000000       0.000000       0.000000     800.000000  \n",
       "50%         0.000000       0.000000      20.000000     800.000000  \n",
       "75%         0.000000       0.000000      40.000000     801.000000  \n",
       "max         2.315000      21.500000     100.000000     804.000000  "
      ]
     },
     "execution_count": 14,
     "metadata": {},
     "output_type": "execute_result"
    }
   ],
   "source": [
    "df.describe()"
   ]
  },
  {
   "cell_type": "code",
   "execution_count": 15,
   "metadata": {},
   "outputs": [
    {
     "name": "stdout",
     "output_type": "stream",
     "text": [
      "<class 'pandas.core.frame.DataFrame'>\n",
      "Index: 178396 entries, 2015-01-01 00:00:00+01:00 to 2018-12-31 23:00:00+01:00\n",
      "Data columns (total 16 columns):\n",
      " #   Column               Non-Null Count   Dtype  \n",
      "---  ------               --------------   -----  \n",
      " 0   city_name            178396 non-null  object \n",
      " 1   temp                 178396 non-null  float64\n",
      " 2   temp_min             178396 non-null  float64\n",
      " 3   temp_max             178396 non-null  float64\n",
      " 4   pressure             178396 non-null  int64  \n",
      " 5   humidity             178396 non-null  int64  \n",
      " 6   wind_speed           178396 non-null  int64  \n",
      " 7   wind_deg             178396 non-null  int64  \n",
      " 8   rain_1h              178396 non-null  float64\n",
      " 9   rain_3h              178396 non-null  float64\n",
      " 10  snow_3h              178396 non-null  float64\n",
      " 11  clouds_all           178396 non-null  int64  \n",
      " 12  weather_id           178396 non-null  int64  \n",
      " 13  weather_main         178396 non-null  object \n",
      " 14  weather_description  178396 non-null  object \n",
      " 15  weather_icon         178396 non-null  object \n",
      "dtypes: float64(6), int64(6), object(4)\n",
      "memory usage: 23.1+ MB\n"
     ]
    }
   ],
   "source": [
    "df.info()"
   ]
  },
  {
   "cell_type": "markdown",
   "metadata": {},
   "source": [
    "Missing Values"
   ]
  },
  {
   "cell_type": "code",
   "execution_count": 22,
   "metadata": {},
   "outputs": [
    {
     "data": {
      "text/plain": [
       "city_name              0\n",
       "temp                   0\n",
       "temp_min               0\n",
       "temp_max               0\n",
       "pressure               0\n",
       "humidity               0\n",
       "wind_speed             0\n",
       "wind_deg               0\n",
       "rain_1h                0\n",
       "rain_3h                0\n",
       "snow_3h                0\n",
       "clouds_all             0\n",
       "weather_id             0\n",
       "weather_main           0\n",
       "weather_description    0\n",
       "weather_icon           0\n",
       "dtype: int64"
      ]
     },
     "execution_count": 22,
     "metadata": {},
     "output_type": "execute_result"
    }
   ],
   "source": [
    "#Sum of missing values per column\n",
    "df.isna().sum()"
   ]
  },
  {
   "cell_type": "markdown",
   "metadata": {},
   "source": [
    "Data Distributions"
   ]
  },
  {
   "cell_type": "code",
   "execution_count": 21,
   "metadata": {},
   "outputs": [
    {
     "data": {
      "image/png": "[encoded data removed]",
      "text/plain": [
       "<Figure size 1080x864 with 12 Axes>"
      ]
     },
     "metadata": {},
     "output_type": "display_data"
    }
   ],
   "source": [
    "df.hist(figsize=(15,12), bins = 20);"
   ]
  },
  {
   "cell_type": "markdown",
   "metadata": {},
   "source": [
    "# Data Cleaning"
   ]
  },
  {
   "cell_type": "markdown",
   "metadata": {},
   "source": [
    "**Convert Temperature from Kelvin to Fahrenheit**\n",
    "\n",
    "The conversion from Kelvin to Fahrenheit is:\n",
    "    (K − 273.15) × 9/5 + 32"
   ]
  },
  {
   "cell_type": "code",
   "execution_count": null,
   "metadata": {},
   "outputs": [],
   "source": [
    "#Write function that converts Kelvin to Fahrenheit\n",
    "def Fahrenheit(kelvin):\n",
    "    temp = ((kelvin− 273.15) * (9/5)) + 32\n",
    "    return temp"
   ]
  },
  {
   "cell_type": "code",
   "execution_count": null,
   "metadata": {},
   "outputs": [],
   "source": [
    "#Subset columns containg temp \n",
    "\n",
    "#Convert cols"
   ]
  }
 ],
 "metadata": {
  "kernelspec": {
   "display_name": "EDA",
   "language": "python",
   "name": "eda"
  },
  "language_info": {
   "codemirror_mode": {
    "name": "ipython",
    "version": 3
   },
   "file_extension": ".py",
   "mimetype": "text/x-python",
   "name": "python",
   "nbconvert_exporter": "python",
   "pygments_lexer": "ipython3",
   "version": "3.7.7"
  },
  "toc-autonumbering": true
 },
 "nbformat": 4,
 "nbformat_minor": 4
}
