{
 "cells": [
  {
   "cell_type": "markdown",
   "metadata": {},
   "source": [
    "# Introduction \n",
    "\n",
    "In the following notebook, I will preparing the 2020_0505_Cleaned_Energy_Dataset.csv for time series forecasting\n",
    "\n",
    "* Raw data can be found [here](https://github.com/KishenSharma6/Weather-Energy-Consumption-in-Spain/tree/master/Data/01_Raw_Data)\n",
    "* Cleaned data can be found [here](https://github.com/KishenSharma6/Weather-Energy-Consumption-in-Spain/tree/master/Data/02_Cleaned_Data)"
   ]
  },
  {
   "cell_type": "markdown",
   "metadata": {},
   "source": [
    "**Read in libraries for notebook**"
   ]
  },
  {
   "cell_type": "code",
   "execution_count": 7,
   "metadata": {},
   "outputs": [],
   "source": [
    "import numpy as np\n",
    "import pandas as pd\n",
    "\n",
    "import matplotlib.pyplot as plt\n",
    "import seaborn as sns\n",
    "import warnings"
   ]
  },
  {
   "cell_type": "markdown",
   "metadata": {},
   "source": [
    "**Set notebook preferences**"
   ]
  },
  {
   "cell_type": "code",
   "execution_count": 8,
   "metadata": {},
   "outputs": [],
   "source": [
    "#Set preferences for pandas \n",
    "pd.set_option(\"display.max_rows\", 101)\n",
    "\n",
    "#Set style for visualizations\n",
    "plt.style.use('Solarize_Light2')\n",
    "\n",
    "#Surpress warnings\n",
    "warnings.filterwarnings('ignore')"
   ]
  },
  {
   "cell_type": "markdown",
   "metadata": {},
   "source": [
    "**Read in data**"
   ]
  },
  {
   "cell_type": "code",
   "execution_count": 12,
   "metadata": {},
   "outputs": [],
   "source": [
    "#Set path to raw data\n",
    "path = r'C:\\Users\\kishe\\Documents\\Data Science\\Projects\\Python Projects\\In Progress\\Spain Hourly Energy Demand and Weather'\n",
    "\n",
    "#Read in raw data\n",
    "df = pd.read_csv(path + '/Data/02_Cleaned_Data/2020_0505_Cleaned_Energy_Dataset.csv', \n",
    "                 parse_dates=['date_time'], index_col='date_time')"
   ]
  },
  {
   "cell_type": "markdown",
   "metadata": {},
   "source": [
    "# Data Overview\n",
    "\n",
    "**Data Dictionary**\n",
    "\n",
    "* **time**: Datetime index localized to CET\n",
    "* **total load forecast**: forecasted electrical demand\n",
    "* **total load actual**: actual electrical demand\n",
    "* **price day ahead**: forecasted price EUR/MWh\n",
    "* **price actual**: price in EUR/MWh\n",
    "* **date**: mm/dd/yyyy\n",
    "* **time**: time of recording\n",
    "* **weekday**: day of recording\n",
    "* **month**: month of recording\n",
    "* **year**: year of recording"
   ]
  },
  {
   "cell_type": "markdown",
   "metadata": {},
   "source": [
    "**Data Preview**"
   ]
  },
  {
   "cell_type": "code",
   "execution_count": 13,
   "metadata": {},
   "outputs": [
    {
     "name": "stdout",
     "output_type": "stream",
     "text": [
      "Shape of data: (35064, 9)\n"
     ]
    },
    {
     "data": {
      "text/html": [
       "<div>\n",
       "<style scoped>\n",
       "    .dataframe tbody tr th:only-of-type {\n",
       "        vertical-align: middle;\n",
       "    }\n",
       "\n",
       "    .dataframe tbody tr th {\n",
       "        vertical-align: top;\n",
       "    }\n",
       "\n",
       "    .dataframe thead th {\n",
       "        text-align: right;\n",
       "    }\n",
       "</style>\n",
       "<table border=\"1\" class=\"dataframe\">\n",
       "  <thead>\n",
       "    <tr style=\"text-align: right;\">\n",
       "      <th></th>\n",
       "      <th>total_load_forecast</th>\n",
       "      <th>total_load_actual</th>\n",
       "      <th>price_day_ahead</th>\n",
       "      <th>price_actual</th>\n",
       "      <th>date</th>\n",
       "      <th>time</th>\n",
       "      <th>weekday</th>\n",
       "      <th>month</th>\n",
       "      <th>year</th>\n",
       "    </tr>\n",
       "    <tr>\n",
       "      <th>date_time</th>\n",
       "      <th></th>\n",
       "      <th></th>\n",
       "      <th></th>\n",
       "      <th></th>\n",
       "      <th></th>\n",
       "      <th></th>\n",
       "      <th></th>\n",
       "      <th></th>\n",
       "      <th></th>\n",
       "    </tr>\n",
       "  </thead>\n",
       "  <tbody>\n",
       "    <tr>\n",
       "      <th>2015-01-01 00:00:00</th>\n",
       "      <td>26118.0</td>\n",
       "      <td>25385.0</td>\n",
       "      <td>50.10</td>\n",
       "      <td>65.41</td>\n",
       "      <td>2015-01-01</td>\n",
       "      <td>00:00:00</td>\n",
       "      <td>Thursday</td>\n",
       "      <td>January</td>\n",
       "      <td>2015</td>\n",
       "    </tr>\n",
       "    <tr>\n",
       "      <th>2015-01-01 01:00:00</th>\n",
       "      <td>24934.0</td>\n",
       "      <td>24382.0</td>\n",
       "      <td>48.10</td>\n",
       "      <td>64.92</td>\n",
       "      <td>2015-01-01</td>\n",
       "      <td>01:00:00</td>\n",
       "      <td>Thursday</td>\n",
       "      <td>January</td>\n",
       "      <td>2015</td>\n",
       "    </tr>\n",
       "    <tr>\n",
       "      <th>2015-01-01 02:00:00</th>\n",
       "      <td>23515.0</td>\n",
       "      <td>22734.0</td>\n",
       "      <td>47.33</td>\n",
       "      <td>64.48</td>\n",
       "      <td>2015-01-01</td>\n",
       "      <td>02:00:00</td>\n",
       "      <td>Thursday</td>\n",
       "      <td>January</td>\n",
       "      <td>2015</td>\n",
       "    </tr>\n",
       "    <tr>\n",
       "      <th>2015-01-01 03:00:00</th>\n",
       "      <td>22642.0</td>\n",
       "      <td>21286.0</td>\n",
       "      <td>42.27</td>\n",
       "      <td>59.32</td>\n",
       "      <td>2015-01-01</td>\n",
       "      <td>03:00:00</td>\n",
       "      <td>Thursday</td>\n",
       "      <td>January</td>\n",
       "      <td>2015</td>\n",
       "    </tr>\n",
       "    <tr>\n",
       "      <th>2015-01-01 04:00:00</th>\n",
       "      <td>21785.0</td>\n",
       "      <td>20264.0</td>\n",
       "      <td>38.41</td>\n",
       "      <td>56.04</td>\n",
       "      <td>2015-01-01</td>\n",
       "      <td>04:00:00</td>\n",
       "      <td>Thursday</td>\n",
       "      <td>January</td>\n",
       "      <td>2015</td>\n",
       "    </tr>\n",
       "  </tbody>\n",
       "</table>\n",
       "</div>"
      ],
      "text/plain": [
       "                     total_load_forecast  total_load_actual  price_day_ahead  \\\n",
       "date_time                                                                      \n",
       "2015-01-01 00:00:00              26118.0            25385.0            50.10   \n",
       "2015-01-01 01:00:00              24934.0            24382.0            48.10   \n",
       "2015-01-01 02:00:00              23515.0            22734.0            47.33   \n",
       "2015-01-01 03:00:00              22642.0            21286.0            42.27   \n",
       "2015-01-01 04:00:00              21785.0            20264.0            38.41   \n",
       "\n",
       "                     price_actual        date      time   weekday    month  \\\n",
       "date_time                                                                    \n",
       "2015-01-01 00:00:00         65.41  2015-01-01  00:00:00  Thursday  January   \n",
       "2015-01-01 01:00:00         64.92  2015-01-01  01:00:00  Thursday  January   \n",
       "2015-01-01 02:00:00         64.48  2015-01-01  02:00:00  Thursday  January   \n",
       "2015-01-01 03:00:00         59.32  2015-01-01  03:00:00  Thursday  January   \n",
       "2015-01-01 04:00:00         56.04  2015-01-01  04:00:00  Thursday  January   \n",
       "\n",
       "                     year  \n",
       "date_time                  \n",
       "2015-01-01 00:00:00  2015  \n",
       "2015-01-01 01:00:00  2015  \n",
       "2015-01-01 02:00:00  2015  \n",
       "2015-01-01 03:00:00  2015  \n",
       "2015-01-01 04:00:00  2015  "
      ]
     },
     "metadata": {},
     "output_type": "display_data"
    }
   ],
   "source": [
    "#Print df shape\n",
    "print('Shape of data:', df.shape)\n",
    "\n",
    "#View head\n",
    "display(df.head())"
   ]
  },
  {
   "cell_type": "markdown",
   "metadata": {},
   "source": [
    "**About the data**"
   ]
  },
  {
   "cell_type": "code",
   "execution_count": 11,
   "metadata": {},
   "outputs": [
    {
     "name": "stdout",
     "output_type": "stream",
     "text": [
      "Data set stats and info:\n",
      "       total_load_forecast  total_load_actual  price_day_ahead  price_actual  \\\n",
      "count         35064.000000       35064.000000     35064.000000  35064.000000   \n",
      "mean          28712.129962       28697.608573        49.874341     57.884023   \n",
      "std            4594.100854        4575.872425        14.618900     14.204083   \n",
      "min           18105.000000       18041.000000         2.060000      9.330000   \n",
      "25%           24793.750000       24806.750000        41.490000     49.347500   \n",
      "50%           28906.000000       28902.000000        50.520000     58.020000   \n",
      "75%           32263.250000       32194.250000        60.530000     68.010000   \n",
      "max           41390.000000       41015.000000       101.990000    116.800000   \n",
      "\n",
      "               year  \n",
      "count  35064.000000  \n",
      "mean    2016.499658  \n",
      "std        1.117744  \n",
      "min     2015.000000  \n",
      "25%     2016.000000  \n",
      "50%     2016.000000  \n",
      "75%     2017.000000  \n",
      "max     2018.000000  \n",
      "\n",
      "<class 'pandas.core.frame.DataFrame'>\n",
      "DatetimeIndex: 35064 entries, 2020-05-13 00:00:00 to 2020-05-13 23:00:00\n",
      "Data columns (total 9 columns):\n",
      " #   Column               Non-Null Count  Dtype  \n",
      "---  ------               --------------  -----  \n",
      " 0   date_time            35064 non-null  object \n",
      " 1   total_load_forecast  35064 non-null  float64\n",
      " 2   total_load_actual    35064 non-null  float64\n",
      " 3   price_day_ahead      35064 non-null  float64\n",
      " 4   price_actual         35064 non-null  float64\n",
      " 5   date                 35064 non-null  object \n",
      " 6   weekday              35064 non-null  object \n",
      " 7   month                35064 non-null  object \n",
      " 8   year                 35064 non-null  int64  \n",
      "dtypes: float64(4), int64(1), object(4)\n",
      "memory usage: 2.7+ MB\n",
      "None\n"
     ]
    }
   ],
   "source": [
    "print('Data set stats and info:\\n{}\\n'.format(df.describe()))\n",
    "print(df.info())"
   ]
  },
  {
   "cell_type": "markdown",
   "metadata": {},
   "source": [
    "# Preprocessing for Time Series"
   ]
  },
  {
   "cell_type": "markdown",
   "metadata": {},
   "source": [
    "## Data Preparation"
   ]
  },
  {
   "cell_type": "markdown",
   "metadata": {},
   "source": [
    "### Split data based on target"
   ]
  },
  {
   "cell_type": "markdown",
   "metadata": {},
   "source": [
    "**total_load_actual**"
   ]
  },
  {
   "cell_type": "code",
   "execution_count": 20,
   "metadata": {},
   "outputs": [
    {
     "data": {
      "text/html": [
       "<div>\n",
       "<style scoped>\n",
       "    .dataframe tbody tr th:only-of-type {\n",
       "        vertical-align: middle;\n",
       "    }\n",
       "\n",
       "    .dataframe tbody tr th {\n",
       "        vertical-align: top;\n",
       "    }\n",
       "\n",
       "    .dataframe thead th {\n",
       "        text-align: right;\n",
       "    }\n",
       "</style>\n",
       "<table border=\"1\" class=\"dataframe\">\n",
       "  <thead>\n",
       "    <tr style=\"text-align: right;\">\n",
       "      <th></th>\n",
       "      <th>total_load_forecast</th>\n",
       "      <th>total_load_actual</th>\n",
       "    </tr>\n",
       "    <tr>\n",
       "      <th>date_time</th>\n",
       "      <th></th>\n",
       "      <th></th>\n",
       "    </tr>\n",
       "  </thead>\n",
       "  <tbody>\n",
       "    <tr>\n",
       "      <th>2015-01-01 00:00:00</th>\n",
       "      <td>26118.0</td>\n",
       "      <td>25385.0</td>\n",
       "    </tr>\n",
       "    <tr>\n",
       "      <th>2015-01-01 01:00:00</th>\n",
       "      <td>24934.0</td>\n",
       "      <td>24382.0</td>\n",
       "    </tr>\n",
       "    <tr>\n",
       "      <th>2015-01-01 02:00:00</th>\n",
       "      <td>23515.0</td>\n",
       "      <td>22734.0</td>\n",
       "    </tr>\n",
       "    <tr>\n",
       "      <th>2015-01-01 03:00:00</th>\n",
       "      <td>22642.0</td>\n",
       "      <td>21286.0</td>\n",
       "    </tr>\n",
       "    <tr>\n",
       "      <th>2015-01-01 04:00:00</th>\n",
       "      <td>21785.0</td>\n",
       "      <td>20264.0</td>\n",
       "    </tr>\n",
       "  </tbody>\n",
       "</table>\n",
       "</div>"
      ],
      "text/plain": [
       "                     total_load_forecast  total_load_actual\n",
       "date_time                                                  \n",
       "2015-01-01 00:00:00              26118.0            25385.0\n",
       "2015-01-01 01:00:00              24934.0            24382.0\n",
       "2015-01-01 02:00:00              23515.0            22734.0\n",
       "2015-01-01 03:00:00              22642.0            21286.0\n",
       "2015-01-01 04:00:00              21785.0            20264.0"
      ]
     },
     "metadata": {},
     "output_type": "display_data"
    }
   ],
   "source": [
    "#Drop cols not pertaining to total_load. Keeping forecast\n",
    "load = df.iloc[:,0:2]\n",
    "\n",
    "#Check\n",
    "display(load.head())"
   ]
  },
  {
   "cell_type": "markdown",
   "metadata": {},
   "source": [
    "**price_actual**"
   ]
  },
  {
   "cell_type": "code",
   "execution_count": 22,
   "metadata": {},
   "outputs": [
    {
     "data": {
      "text/html": [
       "<div>\n",
       "<style scoped>\n",
       "    .dataframe tbody tr th:only-of-type {\n",
       "        vertical-align: middle;\n",
       "    }\n",
       "\n",
       "    .dataframe tbody tr th {\n",
       "        vertical-align: top;\n",
       "    }\n",
       "\n",
       "    .dataframe thead th {\n",
       "        text-align: right;\n",
       "    }\n",
       "</style>\n",
       "<table border=\"1\" class=\"dataframe\">\n",
       "  <thead>\n",
       "    <tr style=\"text-align: right;\">\n",
       "      <th></th>\n",
       "      <th>price_day_ahead</th>\n",
       "      <th>price_actual</th>\n",
       "    </tr>\n",
       "    <tr>\n",
       "      <th>date_time</th>\n",
       "      <th></th>\n",
       "      <th></th>\n",
       "    </tr>\n",
       "  </thead>\n",
       "  <tbody>\n",
       "    <tr>\n",
       "      <th>2015-01-01 00:00:00</th>\n",
       "      <td>50.10</td>\n",
       "      <td>65.41</td>\n",
       "    </tr>\n",
       "    <tr>\n",
       "      <th>2015-01-01 01:00:00</th>\n",
       "      <td>48.10</td>\n",
       "      <td>64.92</td>\n",
       "    </tr>\n",
       "    <tr>\n",
       "      <th>2015-01-01 02:00:00</th>\n",
       "      <td>47.33</td>\n",
       "      <td>64.48</td>\n",
       "    </tr>\n",
       "    <tr>\n",
       "      <th>2015-01-01 03:00:00</th>\n",
       "      <td>42.27</td>\n",
       "      <td>59.32</td>\n",
       "    </tr>\n",
       "    <tr>\n",
       "      <th>2015-01-01 04:00:00</th>\n",
       "      <td>38.41</td>\n",
       "      <td>56.04</td>\n",
       "    </tr>\n",
       "  </tbody>\n",
       "</table>\n",
       "</div>"
      ],
      "text/plain": [
       "                     price_day_ahead  price_actual\n",
       "date_time                                         \n",
       "2015-01-01 00:00:00            50.10         65.41\n",
       "2015-01-01 01:00:00            48.10         64.92\n",
       "2015-01-01 02:00:00            47.33         64.48\n",
       "2015-01-01 03:00:00            42.27         59.32\n",
       "2015-01-01 04:00:00            38.41         56.04"
      ]
     },
     "metadata": {},
     "output_type": "display_data"
    }
   ],
   "source": [
    "#Drop cols not pertaining to price_actual. Keeping forecast\n",
    "price = df.iloc[:,2:4]\n",
    "\n",
    "#Check\n",
    "display(price.head())"
   ]
  },
  {
   "cell_type": "markdown",
   "metadata": {},
   "source": [
    "### Target distributions"
   ]
  },
  {
   "cell_type": "code",
   "execution_count": 27,
   "metadata": {},
   "outputs": [],
   "source": [
    "###PNG FILES###"
   ]
  },
  {
   "cell_type": "markdown",
   "metadata": {},
   "source": [
    "Quick EDA"
   ]
  },
  {
   "cell_type": "markdown",
   "metadata": {},
   "source": [
    "**Time plots**"
   ]
  },
  {
   "cell_type": "code",
   "execution_count": null,
   "metadata": {},
   "outputs": [],
   "source": [
    "###PNG Load###"
   ]
  },
  {
   "cell_type": "code",
   "execution_count": null,
   "metadata": {},
   "outputs": [],
   "source": [
    "###PNG Price####"
   ]
  },
  {
   "cell_type": "markdown",
   "metadata": {},
   "source": [
    "**Autocorrelation plots**"
   ]
  },
  {
   "cell_type": "code",
   "execution_count": null,
   "metadata": {},
   "outputs": [],
   "source": [
    "###PNG Load###"
   ]
  },
  {
   "cell_type": "code",
   "execution_count": null,
   "metadata": {},
   "outputs": [],
   "source": [
    "###PNG Price####"
   ]
  },
  {
   "cell_type": "markdown",
   "metadata": {},
   "source": [
    "Stationarize data - Load"
   ]
  },
  {
   "cell_type": "code",
   "execution_count": 33,
   "metadata": {},
   "outputs": [
    {
     "data": {
      "text/plain": [
       "<matplotlib.axes._subplots.AxesSubplot at 0x26e26a10cc8>"
      ]
     },
     "execution_count": 33,
     "metadata": {},
     "output_type": "execute_result"
    },
    {
     "data": {
      "image/png": "[encoded data removed]",
      "text/plain": [
       "<Figure size 432x288 with 1 Axes>"
      ]
     },
     "metadata": {},
     "output_type": "display_data"
    }
   ],
   "source": [
    "load.total_load_actual.plot()"
   ]
  },
  {
   "cell_type": "code",
   "execution_count": 80,
   "metadata": {},
   "outputs": [
    {
     "data": {
      "image/png": "[encoded data removed]",
      "text/plain": [
       "<Figure size 1800x720 with 2 Axes>"
      ]
     },
     "metadata": {},
     "output_type": "display_data"
    }
   ],
   "source": [
    "#Remove Seasonality\n",
    "load['deseasoned_load_actual'] = load.total_load_actual.diff(24)\n",
    "\n",
    "#Create plot\n",
    "f, ax = plt.subplots(1,2, figsize = (25,10))\n",
    "\n",
    "#Visualize deseasoned data\n",
    "load['deseasoned_load_actual'].plot(ax = ax[0])\n",
    "\n",
    "#Visualize acf of deseasoned_load_actual\n",
    "from statsmodels.graphics.tsaplots import plot_acf\n",
    "acf = plot_acf(load.deseasoned_load_actual[24:], lags = 400,  ax = ax[1])"
   ]
  },
  {
   "cell_type": "markdown",
   "metadata": {},
   "source": [
    "### Test for stationarity"
   ]
  },
  {
   "cell_type": "markdown",
   "metadata": {},
   "source": [
    "**Functions for tests**"
   ]
  },
  {
   "cell_type": "code",
   "execution_count": 49,
   "metadata": {},
   "outputs": [],
   "source": [
    "#Import KPSS and ADF\n",
    "from statsmodels.tsa.stattools import adfuller, kpss\n",
    "\n",
    "#Function runs ADF and KPSS test on series, prints results\n",
    "def ADF_KPSS_test(series, periods):\n",
    "    \"\"\"\n",
    "    Series: Time series data you would like to test for stationrity\n",
    "    Periods: Seasonal period\n",
    "    \"\"\"\n",
    "    #Convert series to values and subset to remove NA values\n",
    "    X = series.values[periods:]\n",
    "    \n",
    "    #Implement ADF and KPSS\n",
    "    adf_results = adfuller(X)\n",
    "    kpss_results = kpss(X)\n",
    "    \n",
    "    #Print results\n",
    "    print('ADF Statistic: {}'.format(adf_results[0]))\n",
    "    print('P-Value: {}'.format(adf_results[1]))\n",
    "    for k,v in adf_results[4].items():\n",
    "        print('Critical Values {} : {}'.format(k,round(v,4)))\n",
    "    print('===============================================')\n",
    "    print('KPSS Statistic: {}'.format(kpss_results[0]))\n",
    "    print('P-Value: {}'.format(kpss_results[1]))\n",
    "    for k,v in kpss_results[3].items():\n",
    "        print('Critical Values {} : {}'.format(k,round(v,4)))\n",
    "    \n",
    "#Function calculates and prints mean and variance metrics of first and second half of time series\n",
    "def mean_var_test(series, periods):\n",
    "    \"\"\"\n",
    "    Series: Time series data you would like to test for stationrity\n",
    "    Periods: Seasonal period\n",
    "    \"\"\"\n",
    "    #Convert series to values and subset to remove NA values\n",
    "    X = series.values[periods:]\n",
    "    \n",
    "    #Set split to be midpoint of time series\n",
    "    split = round(len(X)/2)\n",
    "    #Split time series\n",
    "    X1,X2 = X[:split], X[split:]\n",
    "    #calculate and print mean and var of 2 halves of time series \n",
    "    mean1, mean2 = np.mean(X1), np.mean(X2)\n",
    "    var1, var2 = np.var(X1), np.var(X2)\n",
    "    return print('Mean1: {}\\nMean2: {}\\nVar1: {}\\nVar2: {}'.format(mean1, mean2, var1, var2))"
   ]
  },
  {
   "cell_type": "markdown",
   "metadata": {},
   "source": [
    "**Test Load Data**"
   ]
  },
  {
   "cell_type": "markdown",
   "metadata": {},
   "source": [
    "*Deseasoned temperature data*"
   ]
  },
  {
   "cell_type": "code",
   "execution_count": 50,
   "metadata": {},
   "outputs": [
    {
     "name": "stdout",
     "output_type": "stream",
     "text": [
      "ADF Statistic: -28.965850627136746\n",
      "P-Value: 0.0\n",
      "Critical Values 1% : -3.4305\n",
      "Critical Values 5% : -2.8616\n",
      "Critical Values 10% : -2.5668\n",
      "===============================================\n",
      "KPSS Statistic: 0.0025532547435734606\n",
      "P-Value: 0.1\n",
      "Critical Values 10% : 0.347\n",
      "Critical Values 5% : 0.463\n",
      "Critical Values 2.5% : 0.574\n",
      "Critical Values 1% : 0.739\n"
     ]
    }
   ],
   "source": [
    "#Test deseasoned_load_actual\n",
    "ADF_KPSS_test(load.deseasoned_load_actual, 24)"
   ]
  },
  {
   "cell_type": "code",
   "execution_count": 51,
   "metadata": {},
   "outputs": [
    {
     "name": "stdout",
     "output_type": "stream",
     "text": [
      "Mean1: 3.1507420091324203\n",
      "Mean2: -0.4103310502283105\n",
      "Var1: 12347489.43201429\n",
      "Var2: 12580203.649037104\n"
     ]
    }
   ],
   "source": [
    "#View metrics variance and mean stats\n",
    "mean_var_test(load.deseasoned_load_actual,24)"
   ]
  },
  {
   "cell_type": "markdown",
   "metadata": {},
   "source": [
    "*Deseasoned log-temperature data*"
   ]
  },
  {
   "cell_type": "code",
   "execution_count": 44,
   "metadata": {},
   "outputs": [
    {
     "name": "stdout",
     "output_type": "stream",
     "text": [
      "ADF Statistic: -29.23372706340709\n",
      "P-Value: 0.0\n",
      "Critical Values 1% : -3.4305\n",
      "Critical Values 5% : -2.8616\n",
      "Critical Values 10% : -2.5668\n",
      "===============================================\n",
      "KPSS Statistic: 0.02509369617161985\n",
      "P-Value: 0.1\n",
      "Critical Values 10% : 0.347\n",
      "Critical Values 5% : 0.463\n",
      "Critical Values 2.5% : 0.574\n",
      "Critical Values 1% : 0.739\n"
     ]
    }
   ],
   "source": [
    "# #Test deseasoned temp\n",
    "# ADF_KPSS_test(, 24)"
   ]
  },
  {
   "cell_type": "code",
   "execution_count": 45,
   "metadata": {},
   "outputs": [
    {
     "name": "stdout",
     "output_type": "stream",
     "text": [
      "Mean1: -2.539769744571666e-05\n",
      "Mean2: 0.00013426765560083315\n",
      "Var1: 0.01188505232730019\n",
      "Var2: 0.014399375599010058\n"
     ]
    }
   ],
   "source": [
    "# #View metrics variance and mean stats\n",
    "# mean_var_test(,24)"
   ]
  },
  {
   "cell_type": "code",
   "execution_count": null,
   "metadata": {},
   "outputs": [],
   "source": []
  },
  {
   "cell_type": "markdown",
   "metadata": {},
   "source": [
    "**Stationarize data - Price**"
   ]
  },
  {
   "cell_type": "code",
   "execution_count": 74,
   "metadata": {},
   "outputs": [
    {
     "data": {
      "image/png": "[encoded data removed]",
      "text/plain": [
       "<Figure size 1440x720 with 2 Axes>"
      ]
     },
     "metadata": {},
     "output_type": "display_data"
    }
   ],
   "source": [
    "#Deseason price_actual\n",
    "price['deseasoned_price_actual'] = price['price_actual'].diff(24)\n",
    "\n",
    "\n",
    "#Visualize deseasoned_price_actual\n",
    "#Set figure\n",
    "f, ax = plt.subplots(1,2,figsize = (20,10))\n",
    "\n",
    "#Plot data\n",
    "price['deseasoned_price_actual'].plot(ax=ax[0])\n",
    "\n",
    "acf_results = plot_acf(price['deseasoned_price_actual'][24:], lags = 200, ax=ax[1])"
   ]
  },
  {
   "cell_type": "code",
   "execution_count": 60,
   "metadata": {},
   "outputs": [
    {
     "data": {
      "text/html": [
       "<div>\n",
       "<style scoped>\n",
       "    .dataframe tbody tr th:only-of-type {\n",
       "        vertical-align: middle;\n",
       "    }\n",
       "\n",
       "    .dataframe tbody tr th {\n",
       "        vertical-align: top;\n",
       "    }\n",
       "\n",
       "    .dataframe thead th {\n",
       "        text-align: right;\n",
       "    }\n",
       "</style>\n",
       "<table border=\"1\" class=\"dataframe\">\n",
       "  <thead>\n",
       "    <tr style=\"text-align: right;\">\n",
       "      <th></th>\n",
       "      <th>price_day_ahead</th>\n",
       "      <th>price_actual</th>\n",
       "      <th>deseasoned_price_actual</th>\n",
       "    </tr>\n",
       "    <tr>\n",
       "      <th>date_time</th>\n",
       "      <th></th>\n",
       "      <th></th>\n",
       "      <th></th>\n",
       "    </tr>\n",
       "  </thead>\n",
       "  <tbody>\n",
       "    <tr>\n",
       "      <th>2015-01-01 00:00:00</th>\n",
       "      <td>50.10</td>\n",
       "      <td>65.41</td>\n",
       "      <td>NaN</td>\n",
       "    </tr>\n",
       "    <tr>\n",
       "      <th>2015-01-01 01:00:00</th>\n",
       "      <td>48.10</td>\n",
       "      <td>64.92</td>\n",
       "      <td>NaN</td>\n",
       "    </tr>\n",
       "    <tr>\n",
       "      <th>2015-01-01 02:00:00</th>\n",
       "      <td>47.33</td>\n",
       "      <td>64.48</td>\n",
       "      <td>NaN</td>\n",
       "    </tr>\n",
       "    <tr>\n",
       "      <th>2015-01-01 03:00:00</th>\n",
       "      <td>42.27</td>\n",
       "      <td>59.32</td>\n",
       "      <td>NaN</td>\n",
       "    </tr>\n",
       "    <tr>\n",
       "      <th>2015-01-01 04:00:00</th>\n",
       "      <td>38.41</td>\n",
       "      <td>56.04</td>\n",
       "      <td>NaN</td>\n",
       "    </tr>\n",
       "  </tbody>\n",
       "</table>\n",
       "</div>"
      ],
      "text/plain": [
       "                     price_day_ahead  price_actual  deseasoned_price_actual\n",
       "date_time                                                                  \n",
       "2015-01-01 00:00:00            50.10         65.41                      NaN\n",
       "2015-01-01 01:00:00            48.10         64.92                      NaN\n",
       "2015-01-01 02:00:00            47.33         64.48                      NaN\n",
       "2015-01-01 03:00:00            42.27         59.32                      NaN\n",
       "2015-01-01 04:00:00            38.41         56.04                      NaN"
      ]
     },
     "execution_count": 60,
     "metadata": {},
     "output_type": "execute_result"
    }
   ],
   "source": [
    "price.head()"
   ]
  },
  {
   "cell_type": "markdown",
   "metadata": {},
   "source": [
    "### Test for stationarity"
   ]
  },
  {
   "cell_type": "markdown",
   "metadata": {},
   "source": [
    "**Test Price Data**"
   ]
  },
  {
   "cell_type": "markdown",
   "metadata": {},
   "source": [
    "*Deseasoned temperature data*"
   ]
  },
  {
   "cell_type": "code",
   "execution_count": 75,
   "metadata": {},
   "outputs": [
    {
     "name": "stdout",
     "output_type": "stream",
     "text": [
      "ADF Statistic: -31.04360441864854\n",
      "P-Value: 0.0\n",
      "Critical Values 1% : -3.4305\n",
      "Critical Values 5% : -2.8616\n",
      "Critical Values 10% : -2.5668\n",
      "===============================================\n",
      "KPSS Statistic: 0.004084099051978492\n",
      "P-Value: 0.1\n",
      "Critical Values 10% : 0.347\n",
      "Critical Values 5% : 0.463\n",
      "Critical Values 2.5% : 0.574\n",
      "Critical Values 1% : 0.739\n"
     ]
    }
   ],
   "source": [
    "#Test deseasoned_load_actual\n",
    "ADF_KPSS_test(price.deseasoned_price_actual, 24)"
   ]
  },
  {
   "cell_type": "code",
   "execution_count": 76,
   "metadata": {},
   "outputs": [
    {
     "name": "stdout",
     "output_type": "stream",
     "text": [
      "Mean1: 0.006474885844748834\n",
      "Mean2: 0.001981735159817328\n",
      "Var1: 80.52726602105878\n",
      "Var2: 57.64894505674402\n"
     ]
    }
   ],
   "source": [
    "#View metrics variance and mean stats\n",
    "mean_var_test(price.deseasoned_price_actual,24)"
   ]
  },
  {
   "cell_type": "markdown",
   "metadata": {},
   "source": [
    "*Deseasoned log-temperature data*"
   ]
  },
  {
   "cell_type": "code",
   "execution_count": 77,
   "metadata": {},
   "outputs": [],
   "source": [
    "# #Test deseasoned temp\n",
    "# ADF_KPSS_test(, 24)"
   ]
  },
  {
   "cell_type": "code",
   "execution_count": 78,
   "metadata": {},
   "outputs": [],
   "source": [
    "# #View metrics variance and mean stats\n",
    "# mean_var_test(,24)"
   ]
  }
 ],
 "metadata": {
  "kernelspec": {
   "display_name": "Time-Series",
   "language": "python",
   "name": "time-series"
  },
  "language_info": {
   "codemirror_mode": {
    "name": "ipython",
    "version": 3
   },
   "file_extension": ".py",
   "mimetype": "text/x-python",
   "name": "python",
   "nbconvert_exporter": "python",
   "pygments_lexer": "ipython3",
   "version": "3.7.7"
  }
 },
 "nbformat": 4,
 "nbformat_minor": 4
}
