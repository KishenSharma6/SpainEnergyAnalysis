{
 "cells": [
  {
   "cell_type": "markdown",
   "metadata": {},
   "source": [
    "# Introduction \n",
    "\n",
    "In the following notebook, I will be exploring a cleaned version of the energy_dataset.csv file.\n",
    "\n",
    "* Raw data can be found [here](https://github.com/KishenSharma6/Weather-Energy-Consumption-in-Spain/tree/master/Data/01_Raw_Data)\n",
    "* Cleaned data can be found [here](https://github.com/KishenSharma6/Weather-Energy-Consumption-in-Spain/tree/master/Data/02_Cleaned_Data)"
   ]
  },
  {
   "cell_type": "markdown",
   "metadata": {},
   "source": [
    "**Read in libraries for notebook**"
   ]
  },
  {
   "cell_type": "code",
   "execution_count": null,
   "metadata": {},
   "outputs": [],
   "source": [
    "import numpy as np\n",
    "import pandas as pd\n",
    "import matplotlib.pyplot as plt\n",
    "import seaborn as sns\n",
    "import warnings"
   ]
  },
  {
   "cell_type": "markdown",
   "metadata": {},
   "source": [
    "**Set notebook preferences**"
   ]
  },
  {
   "cell_type": "code",
   "execution_count": null,
   "metadata": {},
   "outputs": [],
   "source": [
    "#Set preferences for pandas \n",
    "pd.set_option(\"display.max_rows\", 101)\n",
    "\n",
    "#Set style for visualizations\n",
    "plt.style.use('Solarize_Light2')\n",
    "font_title = {'fontsize' : 24, \n",
    "              'fontweight' : 'semibold',\n",
    "             'fontname':'Gill Sans MT'}\n",
    "\n",
    "#Surpress warnings\n",
    "warnings.filterwarnings('ignore')"
   ]
  },
  {
   "cell_type": "markdown",
   "metadata": {},
   "source": [
    "**Read in data**"
   ]
  },
  {
   "cell_type": "code",
   "execution_count": null,
   "metadata": {},
   "outputs": [],
   "source": [
    "#Set path to raw data\n",
    "path = r'C:\\Users\\kishe\\Documents\\Data Science\\Projects\\Python Projects\\In Progress\\Spain Hourly Energy Demand and Weather'\n",
    "\n",
    "#Read in raw data\n",
    "df = pd.read_csv(path + '/Data/02_Cleaned_Data/2020_0505_Cleaned_Energy_Dataset.csv', index_col='date_time')"
   ]
  },
  {
   "cell_type": "markdown",
   "metadata": {},
   "source": [
    "# Data Overview"
   ]
  },
  {
   "cell_type": "markdown",
   "metadata": {},
   "source": [
    "* time: Datetime index localized to CET\n",
    "* total load forecast: forecasted electrical demand\n",
    "* total load actual: actual electrical demand\n",
    "* price day ahead: forecasted price EUR/MWh\n",
    "* price actual: price in EUR/MWh\n",
    "* **date**: mm/dd/yyyy\n",
    "* **time**: time of recording\n",
    "* **weekday**: day of recording\n",
    "* **month**: month of recording\n",
    "* **year**: year of recording"
   ]
  },
  {
   "cell_type": "markdown",
   "metadata": {},
   "source": [
    "**Data Preview**"
   ]
  },
  {
   "cell_type": "code",
   "execution_count": null,
   "metadata": {},
   "outputs": [],
   "source": [
    "#Print df shape\n",
    "print('Shape of data:', df.shape)\n",
    "\n",
    "#View head and data info\n",
    "display(df.head())"
   ]
  },
  {
   "cell_type": "markdown",
   "metadata": {},
   "source": [
    "**About the Data**"
   ]
  },
  {
   "cell_type": "code",
   "execution_count": null,
   "metadata": {},
   "outputs": [],
   "source": [
    "print('Data set stats and info:\\n{}\\n'.format(df.describe()))\n",
    "print(df.info())"
   ]
  },
  {
   "cell_type": "markdown",
   "metadata": {},
   "source": [
    "**Target distributions**"
   ]
  },
  {
   "cell_type": "code",
   "execution_count": null,
   "metadata": {},
   "outputs": [],
   "source": [
    "#Set plot\n",
    "f, axes = plt.subplots(1,2, figsize = (20,10))\n",
    "\n",
    "#Plot data\n",
    "g = sns.distplot(df['total_load_actual'], ax = axes[0], color = 'r', bins=50)\n",
    "j = sns.distplot(df['price_actual'], ax = axes[1],color = 'g', bins=50)\n",
    "\n",
    "###Set plot aesthetics###\n",
    "##plot 1##\n",
    "#Title\n",
    "g.set_title('Energy Load Across Spain',fontdict = font_title)\n",
    "\n",
    "#Axes\n",
    "g.set_xlabel('Kilowatt-Hours (kW/h)')\n",
    "g.get_xaxis().set_major_formatter(plt.FuncFormatter(lambda x, loc: \"{:,}\".format(int(x))))\n",
    "\n",
    "##plot 2##\n",
    "#Title\n",
    "j.set_title('Energy Costs Across Spain', fontdict = font_title)\n",
    "\n",
    "#Axes\n",
    "j.set_xlabel('Price (EUR/MWh)')\n",
    "j.get_xaxis().set_major_formatter(plt.FuncFormatter(lambda x, loc: \"$ {:}.00\".format(int(x))))"
   ]
  },
  {
   "cell_type": "markdown",
   "metadata": {},
   "source": [
    "# Exploratory Data Analysis"
   ]
  },
  {
   "cell_type": "markdown",
   "metadata": {},
   "source": [
    "## Total Energy Load"
   ]
  },
  {
   "cell_type": "markdown",
   "metadata": {},
   "source": [
    "**Raw Time Plot**"
   ]
  },
  {
   "cell_type": "code",
   "execution_count": null,
   "metadata": {},
   "outputs": [],
   "source": [
    "#Set figure\n",
    "fig, ax = plt.subplots(2,1, figsize = (20,15))\n",
    "\n",
    "#Plot data\n",
    "df['total_load_actual'].plot(ax=ax[0], label = 'Raw Data', )\n",
    "df['total_load_actual'].rolling(24*7,24*4).mean().plot(ax=ax[0],color = 'r',label = 'Weekly Average')\n",
    "df['total_load_actual'].rolling(24*7*4,24*7*2).mean().plot(ax=ax[0],color = 'white',label = '4 Week Average')\n",
    "\n",
    "df['total_load_actual'].rolling(24,1).std().plot(ax=ax[1],color = 'grey', label = 'Daily Standard Deviation', )\n",
    "df['total_load_actual'].rolling(24*7,24*4).std().plot(ax=ax[1],color = 'g',label = 'Weekly Standard Deviation')\n",
    "df['total_load_actual'].rolling(24*7*4,24*7*2).std().plot(ax=ax[1],color = 'black',label = '4 Week Standard Deviation')\n",
    "\n",
    "\n",
    "###Set plot aesthetics###\n",
    "##Plot 1##\n",
    "#Title\n",
    "ax[0].set_title('Total Energy Load across Spain',fontdict = font_title)\n",
    "\n",
    "#Axes\n",
    "ax[0].set_xlabel('')\n",
    "ax[0].set_ylabel('Hourly Load (kW/h)')\n",
    "ax[0].get_yaxis().set_major_formatter(plt.FuncFormatter(lambda x, loc: \"{:,}\".format(int(x))))\n",
    "\n",
    "#Legend\n",
    "ax[0].legend(fancybox = True, shadow = True, frameon = True)\n",
    "\n",
    "\n",
    "##Plot 2##\n",
    "#Title\n",
    "ax[1].set_title('Standard Deviation', fontdict=font_title)\n",
    "\n",
    "#Axes\n",
    "ax[1].set_xlabel('')\n",
    "ax[1].set_ylabel('Hourly Load (kW/h)')\n",
    "ax[1].get_yaxis().set_major_formatter(plt.FuncFormatter(lambda x, loc: \"{:,}\".format(int(x))))\n",
    "\n",
    "#Legend\n",
    "ax[1].legend(fancybox = True, shadow = True, frameon = True)\n"
   ]
  },
  {
   "cell_type": "markdown",
   "metadata": {},
   "source": [
    "**Autocorrelation Plot**"
   ]
  },
  {
   "cell_type": "code",
   "execution_count": null,
   "metadata": {},
   "outputs": [],
   "source": [
    "#Import plot acf\n",
    "from statsmodels.graphics.tsaplots import plot_acf\n",
    "\n",
    "#Set plot\n",
    "f, ax = plt.subplots(figsize = (13,8))\n",
    "\n",
    "#Fit to data\n",
    "plot_acf(df['total_load_actual'], lags = 50, ax = ax),\n",
    "\n",
    "###Set plot aesthetics###\n",
    "#Title\n",
    "ax.set_title('Total Energy Load Autocorrelation', fontdict = font_title)"
   ]
  },
  {
   "cell_type": "markdown",
   "metadata": {},
   "source": [
    "**View lag at 24 hrs**"
   ]
  },
  {
   "cell_type": "code",
   "execution_count": null,
   "metadata": {},
   "outputs": [],
   "source": [
    "#Set plot\n",
    "f, ax = plt.subplots(figsize = (20,10))\n",
    "\n",
    "#Plot time plot of first 2 weeks to view seasonality\n",
    "df['total_load_actual'][:24*7*2].plot(ax=ax, label = 'Hourly Data')\n",
    "df['total_load_actual'][:24*7*2].rolling(12, 6).mean().plot(ax=ax, color = 'r', label ='12 Hour Average') #12 hours\n",
    "df['total_load_actual'][:24*7*2].rolling(24, 12).mean().plot(ax=ax, color = 'g', label = 'Daily Average') #Daily\n",
    "\n",
    "###Set plot aesthetics###\n",
    "#Title\n",
    "ax.set_title('Total Energy Load across Spain',fontdict = font_title)\n",
    "\n",
    "#Axes\n",
    "ax.set_xlabel('')\n",
    "ax.set_ylabel('Hourly Load (kW/h)')\n",
    "ax.get_yaxis().set_major_formatter(plt.FuncFormatter(lambda x, loc: \"{:,}\".format(int(x))))\n",
    "\n",
    "#Legend\n",
    "ax.legend(fancybox = True, shadow = True, frameon = True);"
   ]
  },
  {
   "cell_type": "markdown",
   "metadata": {},
   "source": [
    "**Check for yearly patterns**"
   ]
  },
  {
   "cell_type": "code",
   "execution_count": null,
   "metadata": {},
   "outputs": [],
   "source": [
    "#Set plot\n",
    "f, ax = plt.subplots(figsize = (20,10))\n",
    "\n",
    "#Set colors for hue\n",
    "colors = ['r','b','g','y']\n",
    "\n",
    "\n",
    "#Plot Data\n",
    "g = sns.lineplot(x = 'month', y = 'total_load_actual', hue = 'year',data = df, \n",
    "             sort = False, palette=colors, ax = ax);\n",
    "\n",
    "###Set plot aesthetics###\n",
    "#Title\n",
    "g.set_title('Monthly Energy Load per year', fontdict = font_title)\n",
    "\n",
    "#Axes\n",
    "g.set_ylabel('Kilowatt-Hours (kW/h)')\n",
    "g.get_yaxis().set_major_formatter(plt.FuncFormatter(lambda x, loc: \"{:,}\".format(int(x))))\n",
    "\n",
    "#Legend\n",
    "g.legend(fancybox = True, shadow = True, frameon = True);"
   ]
  },
  {
   "cell_type": "markdown",
   "metadata": {},
   "source": [
    "# Price "
   ]
  },
  {
   "cell_type": "markdown",
   "metadata": {},
   "source": [
    "**Raw data plot**"
   ]
  },
  {
   "cell_type": "code",
   "execution_count": null,
   "metadata": {},
   "outputs": [],
   "source": [
    "#Set figure\n",
    "fig, ax = plt.subplots(2,1, figsize = (20,15))\n",
    "\n",
    "#Plot Data\n",
    "df['price_actual'].plot(ax =ax[0], label = 'Actual')\n",
    "df['price_actual'].rolling(24*7,24*7).mean().plot(ax =ax[0],color = 'r', label = 'Weekly Rolling Average')\n",
    "df['price_actual'].rolling(24*7*4,24*7).mean().plot(ax =ax[0], color = 'w', label = '4-week Rolling Standard Deviation')\n",
    "\n",
    "df['price_actual'].rolling(24*7,24*7).std().plot(ax =ax[1], color = 'g', label = 'Weekly Rolling Standard Deviation')\n",
    "df['price_actual'].rolling(24*7*4,24*7).std().plot(ax =ax[1], color = 'black', label = '4-week Rolling Standard Deviation')\n",
    "\n",
    "###Set plot aesthetics###\n",
    "##Plot 1##\n",
    "#Title\n",
    "ax[0].set_title('Price/Hour Spain',fontsize = 22, fontweight = 'bold')\n",
    "\n",
    "#Axes\n",
    "ax[0].set_xlabel('')\n",
    "ax[0].set_ylabel('Price (EUR/MWh)', fontweight = 'bold')\n",
    "ax[0].get_yaxis().set_major_formatter(plt.FuncFormatter(lambda x, loc: \"${:}.00\".format(int(x))))\n",
    "\n",
    "#Legend\n",
    "ax[0].legend(fancybox = True, shadow = True, frameon = True)\n",
    "\n",
    "##Plot 2##\n",
    "#Title\n",
    "ax[1].set_title('')\n",
    "\n",
    "#Axes\n",
    "ax[1].set_xlabel('')\n",
    "ax[1].set_ylabel('Price (EUR/MWh)', fontweight = 'bold')\n",
    "ax[1].get_yaxis().set_major_formatter(plt.FuncFormatter(lambda x, loc: \"${:}.00\".format(int(x))))\n",
    "\n",
    "#Legend\n",
    "ax[1].legend(fancybox = True, shadow = True, frameon = True);"
   ]
  },
  {
   "cell_type": "markdown",
   "metadata": {},
   "source": [
    "**Autocorrelation Plot**"
   ]
  },
  {
   "cell_type": "code",
   "execution_count": null,
   "metadata": {},
   "outputs": [],
   "source": [
    "#Import plot acf\n",
    "from statsmodels.graphics.tsaplots import plot_acf\n",
    "\n",
    "#Set plot\n",
    "f, ax = plt.subplots(figsize = (13,8))\n",
    "\n",
    "#Fit to data\n",
    "plot_acf(df['price_actual'], lags = 50, ax = ax),\n",
    "\n",
    "###Set plot aesthetics###\n",
    "#Title\n",
    "ax.set_title('Price Autocorrelation', fontdict = font_title)"
   ]
  },
  {
   "cell_type": "markdown",
   "metadata": {},
   "source": [
    "**View lag at 24 hrs**"
   ]
  },
  {
   "cell_type": "code",
   "execution_count": null,
   "metadata": {},
   "outputs": [],
   "source": [
    "#Set plot\n",
    "f, ax = plt.subplots(figsize = (20,10))\n",
    "\n",
    "#Plot time plot of first 2 weeks to view seasonality\n",
    "df['price_actual'][:24*7*2].plot(ax=ax, label = 'Hourly Data')\n",
    "df['price_actual'][:24*7*2].rolling(12, 6).mean().plot(ax=ax, color = 'r', label ='12 Hour Average') #12 hours\n",
    "df['price_actual'][:24*7*2].rolling(24, 12).mean().plot(ax=ax, color = 'g', label = 'Daily Average') #Daily\n",
    "\n",
    "###Set plot aesthetics###\n",
    "#Title\n",
    "ax.set_title('Prices Across Spain',fontdict = font_title)\n",
    "\n",
    "#Axes\n",
    "ax.set_xlabel('')\n",
    "ax.set_ylabel('Price (EUR/MWh)')\n",
    "ax.get_yaxis().set_major_formatter(plt.FuncFormatter(lambda x, loc: \"${:}\".format(int(x))))\n",
    "\n",
    "#Legend\n",
    "ax.legend(fancybox = True, shadow = True, frameon = True);"
   ]
  },
  {
   "cell_type": "markdown",
   "metadata": {},
   "source": [
    "**Check for yearly patterns**"
   ]
  },
  {
   "cell_type": "code",
   "execution_count": null,
   "metadata": {},
   "outputs": [],
   "source": [
    "#Set plot\n",
    "f, ax = plt.subplots(figsize = (20,10))\n",
    "\n",
    "#Set colors for hue\n",
    "colors = ['r','b','g','y']\n",
    "\n",
    "\n",
    "#Plot Data\n",
    "g = sns.lineplot(x = 'month', y = 'price_actual', hue = 'year',data = df, \n",
    "             sort = False, palette=colors, ax = ax);\n",
    "\n",
    "###Set plot aesthetics###\n",
    "#Title\n",
    "g.set_title('Monthly Price per year', fontdict = font_title)\n",
    "\n",
    "#Axes\n",
    "g.set_ylabel('Price (EUR/MWh)')\n",
    "g.get_yaxis().set_major_formatter(plt.FuncFormatter(lambda x, loc: \"${:}\".format(int(x))))\n",
    "\n",
    "#Legend\n",
    "g.legend(fancybox = True, shadow = True, frameon = True);"
   ]
  }
 ],
 "metadata": {
  "kernelspec": {
   "display_name": "EDA",
   "language": "python",
   "name": "eda"
  },
  "language_info": {
   "codemirror_mode": {
    "name": "ipython",
    "version": 3
   },
   "file_extension": ".py",
   "mimetype": "text/x-python",
   "name": "python",
   "nbconvert_exporter": "python",
   "pygments_lexer": "ipython3",
   "version": "3.8.2"
  }
 },
 "nbformat": 4,
 "nbformat_minor": 4
}
