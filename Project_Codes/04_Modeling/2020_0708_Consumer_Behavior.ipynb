{
 "cells": [
  {
   "cell_type": "markdown",
   "metadata": {},
   "source": [
    "In the following notebook, I will be modeling consumer behavior in relation to energy demand. I am hoping to find specific patterns of energy use on a daily basis."
   ]
  },
  {
   "cell_type": "markdown",
   "metadata": {},
   "source": [
    "## Prepare Notebook"
   ]
  },
  {
   "cell_type": "markdown",
   "metadata": {},
   "source": [
    "**Read in libraries**"
   ]
  },
  {
   "cell_type": "code",
   "execution_count": 5,
   "metadata": {},
   "outputs": [],
   "source": [
    "import pandas as pd\n",
    "import numpy as np\n",
    "import sklearn\n",
    "import matplotlib.pyplot as plt"
   ]
  },
  {
   "cell_type": "markdown",
   "metadata": {},
   "source": [
    "**Read in data**"
   ]
  },
  {
   "cell_type": "code",
   "execution_count": 6,
   "metadata": {},
   "outputs": [],
   "source": [
    "#Set path to data\n",
    "path = r'C:\\Users\\kishe\\Documents\\Data Science\\Projects\\Python Projects\\In Progress\\Spain Hourly Energy Demand and Weather\\Data\\02_Cleaned_Data'\n",
    "\n",
    "#Read in data\n",
    "df = pd.read_csv(path + '/2020_0620_Weather_Energy.csv')"
   ]
  },
  {
   "cell_type": "markdown",
   "metadata": {},
   "source": [
    "**Preview data**"
   ]
  },
  {
   "cell_type": "code",
   "execution_count": 7,
   "metadata": {},
   "outputs": [
    {
     "data": {
      "text/html": [
       "<div>\n",
       "<style scoped>\n",
       "    .dataframe tbody tr th:only-of-type {\n",
       "        vertical-align: middle;\n",
       "    }\n",
       "\n",
       "    .dataframe tbody tr th {\n",
       "        vertical-align: top;\n",
       "    }\n",
       "\n",
       "    .dataframe thead th {\n",
       "        text-align: right;\n",
       "    }\n",
       "</style>\n",
       "<table border=\"1\" class=\"dataframe\">\n",
       "  <thead>\n",
       "    <tr style=\"text-align: right;\">\n",
       "      <th></th>\n",
       "      <th>date_time</th>\n",
       "      <th>forecast_solar_day_ahead</th>\n",
       "      <th>forecast_wind_onshore_day_ahead</th>\n",
       "      <th>generation_biomass</th>\n",
       "      <th>generation_fossil_brown_coal/lignite</th>\n",
       "      <th>generation_fossil_gas</th>\n",
       "      <th>generation_fossil_hard_coal</th>\n",
       "      <th>generation_fossil_oil</th>\n",
       "      <th>generation_hydro_pumped_storage_consumption</th>\n",
       "      <th>generation_hydro_run-of-river_and_poundage</th>\n",
       "      <th>...</th>\n",
       "      <th>generation_other</th>\n",
       "      <th>generation_other_renewable</th>\n",
       "      <th>generation_solar</th>\n",
       "      <th>generation_waste</th>\n",
       "      <th>generation_wind_onshore</th>\n",
       "      <th>price_actual</th>\n",
       "      <th>price_day_ahead</th>\n",
       "      <th>temp</th>\n",
       "      <th>total_load_actual</th>\n",
       "      <th>total_load_forecast</th>\n",
       "    </tr>\n",
       "  </thead>\n",
       "  <tbody>\n",
       "    <tr>\n",
       "      <th>0</th>\n",
       "      <td>2015-01-01 00:00:00</td>\n",
       "      <td>17.0</td>\n",
       "      <td>6436.0</td>\n",
       "      <td>447.0</td>\n",
       "      <td>329.0</td>\n",
       "      <td>4844.0</td>\n",
       "      <td>4821.0</td>\n",
       "      <td>162.0</td>\n",
       "      <td>863.0</td>\n",
       "      <td>1051.0</td>\n",
       "      <td>...</td>\n",
       "      <td>43.0</td>\n",
       "      <td>73.0</td>\n",
       "      <td>49.0</td>\n",
       "      <td>196.0</td>\n",
       "      <td>6378.0</td>\n",
       "      <td>65.41</td>\n",
       "      <td>50.10</td>\n",
       "      <td>30.814633</td>\n",
       "      <td>25385.0</td>\n",
       "      <td>26118.0</td>\n",
       "    </tr>\n",
       "    <tr>\n",
       "      <th>1</th>\n",
       "      <td>2015-01-01 01:00:00</td>\n",
       "      <td>16.0</td>\n",
       "      <td>5856.0</td>\n",
       "      <td>449.0</td>\n",
       "      <td>328.0</td>\n",
       "      <td>5196.0</td>\n",
       "      <td>4755.0</td>\n",
       "      <td>158.0</td>\n",
       "      <td>920.0</td>\n",
       "      <td>1009.0</td>\n",
       "      <td>...</td>\n",
       "      <td>43.0</td>\n",
       "      <td>71.0</td>\n",
       "      <td>50.0</td>\n",
       "      <td>195.0</td>\n",
       "      <td>5890.0</td>\n",
       "      <td>64.92</td>\n",
       "      <td>48.10</td>\n",
       "      <td>30.852860</td>\n",
       "      <td>24382.0</td>\n",
       "      <td>24934.0</td>\n",
       "    </tr>\n",
       "    <tr>\n",
       "      <th>2</th>\n",
       "      <td>2015-01-01 02:00:00</td>\n",
       "      <td>8.0</td>\n",
       "      <td>5454.0</td>\n",
       "      <td>448.0</td>\n",
       "      <td>323.0</td>\n",
       "      <td>4857.0</td>\n",
       "      <td>4581.0</td>\n",
       "      <td>157.0</td>\n",
       "      <td>1164.0</td>\n",
       "      <td>973.0</td>\n",
       "      <td>...</td>\n",
       "      <td>43.0</td>\n",
       "      <td>73.0</td>\n",
       "      <td>50.0</td>\n",
       "      <td>196.0</td>\n",
       "      <td>5461.0</td>\n",
       "      <td>64.48</td>\n",
       "      <td>47.33</td>\n",
       "      <td>30.108448</td>\n",
       "      <td>22734.0</td>\n",
       "      <td>23515.0</td>\n",
       "    </tr>\n",
       "    <tr>\n",
       "      <th>3</th>\n",
       "      <td>2015-01-01 03:00:00</td>\n",
       "      <td>2.0</td>\n",
       "      <td>5151.0</td>\n",
       "      <td>438.0</td>\n",
       "      <td>254.0</td>\n",
       "      <td>4314.0</td>\n",
       "      <td>4131.0</td>\n",
       "      <td>160.0</td>\n",
       "      <td>1503.0</td>\n",
       "      <td>949.0</td>\n",
       "      <td>...</td>\n",
       "      <td>43.0</td>\n",
       "      <td>75.0</td>\n",
       "      <td>50.0</td>\n",
       "      <td>191.0</td>\n",
       "      <td>5238.0</td>\n",
       "      <td>59.32</td>\n",
       "      <td>42.27</td>\n",
       "      <td>30.091044</td>\n",
       "      <td>21286.0</td>\n",
       "      <td>22642.0</td>\n",
       "    </tr>\n",
       "    <tr>\n",
       "      <th>4</th>\n",
       "      <td>2015-01-01 04:00:00</td>\n",
       "      <td>9.0</td>\n",
       "      <td>4861.0</td>\n",
       "      <td>428.0</td>\n",
       "      <td>187.0</td>\n",
       "      <td>4130.0</td>\n",
       "      <td>3840.0</td>\n",
       "      <td>156.0</td>\n",
       "      <td>1826.0</td>\n",
       "      <td>953.0</td>\n",
       "      <td>...</td>\n",
       "      <td>43.0</td>\n",
       "      <td>74.0</td>\n",
       "      <td>42.0</td>\n",
       "      <td>189.0</td>\n",
       "      <td>4935.0</td>\n",
       "      <td>56.04</td>\n",
       "      <td>38.41</td>\n",
       "      <td>30.192620</td>\n",
       "      <td>20264.0</td>\n",
       "      <td>21785.0</td>\n",
       "    </tr>\n",
       "  </tbody>\n",
       "</table>\n",
       "<p>5 rows × 22 columns</p>\n",
       "</div>"
      ],
      "text/plain": [
       "             date_time  forecast_solar_day_ahead  \\\n",
       "0  2015-01-01 00:00:00                      17.0   \n",
       "1  2015-01-01 01:00:00                      16.0   \n",
       "2  2015-01-01 02:00:00                       8.0   \n",
       "3  2015-01-01 03:00:00                       2.0   \n",
       "4  2015-01-01 04:00:00                       9.0   \n",
       "\n",
       "   forecast_wind_onshore_day_ahead  generation_biomass  \\\n",
       "0                           6436.0               447.0   \n",
       "1                           5856.0               449.0   \n",
       "2                           5454.0               448.0   \n",
       "3                           5151.0               438.0   \n",
       "4                           4861.0               428.0   \n",
       "\n",
       "   generation_fossil_brown_coal/lignite  generation_fossil_gas  \\\n",
       "0                                 329.0                 4844.0   \n",
       "1                                 328.0                 5196.0   \n",
       "2                                 323.0                 4857.0   \n",
       "3                                 254.0                 4314.0   \n",
       "4                                 187.0                 4130.0   \n",
       "\n",
       "   generation_fossil_hard_coal  generation_fossil_oil  \\\n",
       "0                       4821.0                  162.0   \n",
       "1                       4755.0                  158.0   \n",
       "2                       4581.0                  157.0   \n",
       "3                       4131.0                  160.0   \n",
       "4                       3840.0                  156.0   \n",
       "\n",
       "   generation_hydro_pumped_storage_consumption  \\\n",
       "0                                        863.0   \n",
       "1                                        920.0   \n",
       "2                                       1164.0   \n",
       "3                                       1503.0   \n",
       "4                                       1826.0   \n",
       "\n",
       "   generation_hydro_run-of-river_and_poundage  ...  generation_other  \\\n",
       "0                                      1051.0  ...              43.0   \n",
       "1                                      1009.0  ...              43.0   \n",
       "2                                       973.0  ...              43.0   \n",
       "3                                       949.0  ...              43.0   \n",
       "4                                       953.0  ...              43.0   \n",
       "\n",
       "   generation_other_renewable  generation_solar  generation_waste  \\\n",
       "0                        73.0              49.0             196.0   \n",
       "1                        71.0              50.0             195.0   \n",
       "2                        73.0              50.0             196.0   \n",
       "3                        75.0              50.0             191.0   \n",
       "4                        74.0              42.0             189.0   \n",
       "\n",
       "   generation_wind_onshore  price_actual  price_day_ahead       temp  \\\n",
       "0                   6378.0         65.41            50.10  30.814633   \n",
       "1                   5890.0         64.92            48.10  30.852860   \n",
       "2                   5461.0         64.48            47.33  30.108448   \n",
       "3                   5238.0         59.32            42.27  30.091044   \n",
       "4                   4935.0         56.04            38.41  30.192620   \n",
       "\n",
       "   total_load_actual  total_load_forecast  \n",
       "0            25385.0              26118.0  \n",
       "1            24382.0              24934.0  \n",
       "2            22734.0              23515.0  \n",
       "3            21286.0              22642.0  \n",
       "4            20264.0              21785.0  \n",
       "\n",
       "[5 rows x 22 columns]"
      ]
     },
     "metadata": {},
     "output_type": "display_data"
    }
   ],
   "source": [
    "display(df.head())"
   ]
  },
  {
   "cell_type": "markdown",
   "metadata": {},
   "source": [
    "# Clustering electricity usage profiles with K-means"
   ]
  },
  {
   "cell_type": "markdown",
   "metadata": {},
   "source": [
    "**Prepare data**"
   ]
  },
  {
   "cell_type": "code",
   "execution_count": 8,
   "metadata": {},
   "outputs": [
    {
     "data": {
      "text/plain": [
       "0        2015-01-01 00:00:00\n",
       "1        2015-01-01 01:00:00\n",
       "2        2015-01-01 02:00:00\n",
       "3        2015-01-01 03:00:00\n",
       "4        2015-01-01 04:00:00\n",
       "                ...         \n",
       "35065    2018-12-31 19:00:00\n",
       "35066    2018-12-31 20:00:00\n",
       "35067    2018-12-31 21:00:00\n",
       "35068    2018-12-31 22:00:00\n",
       "35069    2018-12-31 23:00:00\n",
       "Name: date_time, Length: 35070, dtype: object"
      ]
     },
     "execution_count": 8,
     "metadata": {},
     "output_type": "execute_result"
    }
   ],
   "source": [
    "df.date_time"
   ]
  },
  {
   "cell_type": "code",
   "execution_count": null,
   "metadata": {},
   "outputs": [],
   "source": []
  },
  {
   "cell_type": "code",
   "execution_count": null,
   "metadata": {},
   "outputs": [],
   "source": []
  },
  {
   "cell_type": "code",
   "execution_count": null,
   "metadata": {},
   "outputs": [],
   "source": []
  },
  {
   "cell_type": "code",
   "execution_count": null,
   "metadata": {},
   "outputs": [],
   "source": []
  },
  {
   "cell_type": "code",
   "execution_count": null,
   "metadata": {},
   "outputs": [],
   "source": []
  }
 ],
 "metadata": {
  "kernelspec": {
   "display_name": "spainenergyanalysis",
   "language": "python",
   "name": "spainenergyanalysis"
  },
  "language_info": {
   "codemirror_mode": {
    "name": "ipython",
    "version": 3
   },
   "file_extension": ".py",
   "mimetype": "text/x-python",
   "name": "python",
   "nbconvert_exporter": "python",
   "pygments_lexer": "ipython3",
   "version": "3.7.7"
  },
  "toc-autonumbering": false,
  "toc-showcode": true,
  "toc-showmarkdowntxt": false
 },
 "nbformat": 4,
 "nbformat_minor": 4
}
